{
  "nbformat": 4,
  "nbformat_minor": 0,
  "metadata": {
    "colab": {
      "provenance": [],
      "toc_visible": true,
      "include_colab_link": true
    },
    "kernelspec": {
      "name": "python3",
      "display_name": "Python 3"
    },
    "language_info": {
      "name": "python"
    }
  },
  "cells": [
    {
      "cell_type": "markdown",
      "metadata": {
        "id": "view-in-github",
        "colab_type": "text"
      },
      "source": [
        "<a href=\"https://colab.research.google.com/github/yuluj/credit-card-default-prediction/blob/main/credit_card_default_classification.ipynb\" target=\"_parent\"><img src=\"https://colab.research.google.com/assets/colab-badge.svg\" alt=\"Open In Colab\"/></a>"
      ]
    },
    {
      "cell_type": "markdown",
      "source": [
        "Link to the Google Colab notebook: https://colab.research.google.com/drive/1Vm-1lHQLAQmquy9QNglM2xnnXb8PKEIL?usp=sharing"
      ],
      "metadata": {
        "id": "yX4Myy1j_pee"
      }
    },
    {
      "cell_type": "markdown",
      "source": [
        "In this homework fit and select a classifier to predict credit card default using `default_of_credit_card_clients` dataset from BlackBoard course site. The data description is available at : https://www.kaggle.com/datasets/jishnukoliyadan/taiwan-default-credit-card-clients\n",
        "\n",
        "1. Explore (5+5+10=20 points)\n",
        "  1. load the dataset. Use only the columns \"LIMIT_BAL\", \"SEX\", \"EDUCATION\", \"MARRIAGE\", and \"AGE\" among predictors. The target is \"default payment next month\". \n",
        "  1. identify the categorical features (with brief explanation), and \n",
        "  1. produce the pairwise scatter plot. \n",
        "1. Prepare a pipeline to (30 points)\n",
        "  1. standardize the numeric attributes\n",
        "  1. expand the categorical attributes to columns of 0/1 variables\n",
        "  1. fit a `RandomForestClassifier` classifier\n",
        "1. Search over the `max_depth` and `min_samples_leaf` parameters to find the best model per balanced accuracy metric. Use at least three different search strategies and discuss any differences you see in the results. (20 points)\n",
        "1. Let's assume that the cost of missing a default (i.e., predicting non-default for a customer who ended up defaulting) is 10 times the cost of flagging a non-defaulter as defaulter. Let's further assume that the cost of correct predictions are 0. Use any one of the search strategies considered in the previous question to find the `RandomForestClassifier` that minimizes the cost. (20 points)\n",
        "1. Collaboration statement: Who did you discuss while answering this homework (whether to get or to provide help)? What questions/topics did you discuss? (10 points)\n",
        "\n",
        "Note: No penalty for either side. While getting help in figuring out how to solve is OK, all answers should be produced by you. \n"
      ],
      "metadata": {
        "id": "ZpvAo7MRpqUe"
      }
    },
    {
      "cell_type": "markdown",
      "source": [
        "## 1. Explore \n",
        "\n"
      ],
      "metadata": {
        "id": "Vmp0IZBAQT-F"
      }
    },
    {
      "cell_type": "markdown",
      "source": [
        "### 1. load the dataset. Set predictors and target."
      ],
      "metadata": {
        "id": "4J4ROEaaJPYO"
      }
    },
    {
      "cell_type": "code",
      "source": [
        "# load packages\n",
        "import pandas as pd\n",
        "import numpy as np\n",
        "import matplotlib.pyplot as plt\n",
        "import seaborn as sns\n",
        "from sklearn.preprocessing import scale\n",
        "from sklearn.linear_model import LinearRegression\n",
        "from sklearn.model_selection import cross_validate\n",
        "from sklearn.metrics import mean_squared_error, r2_score\n",
        "\n",
        "%matplotlib inline\n",
        "plt.style.use('seaborn-white')"
      ],
      "metadata": {
        "id": "GLZDqpBzQMEC"
      },
      "execution_count": null,
      "outputs": []
    },
    {
      "cell_type": "code",
      "source": [
        "# load dataset\n",
        "from google.colab import drive\n",
        "drive.mount('/content/drive', force_remount = True)\n",
        "data_folder = '/content/drive/MyDrive/BA810/'\n",
        "credit_card = pd.read_csv(data_folder+'default_of_credit_card_clients.csv')"
      ],
      "metadata": {
        "id": "wEfeyEvs6jqs",
        "colab": {
          "base_uri": "https://localhost:8080/"
        },
        "outputId": "e59fdacf-52a2-4f66-fc22-688e2a5153b7"
      },
      "execution_count": null,
      "outputs": [
        {
          "output_type": "stream",
          "name": "stdout",
          "text": [
            "Mounted at /content/drive\n"
          ]
        }
      ]
    },
    {
      "cell_type": "code",
      "source": [
        "# overview of the dataset\n",
        "credit_card.info()"
      ],
      "metadata": {
        "colab": {
          "base_uri": "https://localhost:8080/"
        },
        "id": "ysgST3lIE7zv",
        "outputId": "57463b02-b55e-4daf-a309-bf5c37c5916e"
      },
      "execution_count": null,
      "outputs": [
        {
          "output_type": "stream",
          "name": "stdout",
          "text": [
            "<class 'pandas.core.frame.DataFrame'>\n",
            "RangeIndex: 30000 entries, 0 to 29999\n",
            "Data columns (total 25 columns):\n",
            " #   Column                      Non-Null Count  Dtype\n",
            "---  ------                      --------------  -----\n",
            " 0   ID                          30000 non-null  int64\n",
            " 1   LIMIT_BAL                   30000 non-null  int64\n",
            " 2   SEX                         30000 non-null  int64\n",
            " 3   EDUCATION                   30000 non-null  int64\n",
            " 4   MARRIAGE                    30000 non-null  int64\n",
            " 5   AGE                         30000 non-null  int64\n",
            " 6   PAY_0                       30000 non-null  int64\n",
            " 7   PAY_2                       30000 non-null  int64\n",
            " 8   PAY_3                       30000 non-null  int64\n",
            " 9   PAY_4                       30000 non-null  int64\n",
            " 10  PAY_5                       30000 non-null  int64\n",
            " 11  PAY_6                       30000 non-null  int64\n",
            " 12  BILL_AMT1                   30000 non-null  int64\n",
            " 13  BILL_AMT2                   30000 non-null  int64\n",
            " 14  BILL_AMT3                   30000 non-null  int64\n",
            " 15  BILL_AMT4                   30000 non-null  int64\n",
            " 16  BILL_AMT5                   30000 non-null  int64\n",
            " 17  BILL_AMT6                   30000 non-null  int64\n",
            " 18  PAY_AMT1                    30000 non-null  int64\n",
            " 19  PAY_AMT2                    30000 non-null  int64\n",
            " 20  PAY_AMT3                    30000 non-null  int64\n",
            " 21  PAY_AMT4                    30000 non-null  int64\n",
            " 22  PAY_AMT5                    30000 non-null  int64\n",
            " 23  PAY_AMT6                    30000 non-null  int64\n",
            " 24  default payment next month  30000 non-null  int64\n",
            "dtypes: int64(25)\n",
            "memory usage: 5.7 MB\n"
          ]
        }
      ]
    },
    {
      "cell_type": "code",
      "source": [
        "# rename the column to call easier\n",
        "credit_card.rename(columns = {'default payment next month':'default'}, inplace = True)"
      ],
      "metadata": {
        "id": "CGwmxT4MFB8r"
      },
      "execution_count": null,
      "outputs": []
    },
    {
      "cell_type": "code",
      "source": [
        "# only keep selected columns\n",
        "credit_card = credit_card[[\"LIMIT_BAL\", \"SEX\", \"EDUCATION\", \"MARRIAGE\", \"AGE\", \"default\"]]"
      ],
      "metadata": {
        "id": "roNQqo4JPy3r"
      },
      "execution_count": null,
      "outputs": []
    },
    {
      "cell_type": "code",
      "source": [
        "# set the target\n",
        "credit_card_predictors = credit_card.drop(\"default\", axis = 1) #predictors\n",
        "credit_card_target = credit_card[\"default\"].copy() #target"
      ],
      "metadata": {
        "id": "cQgZABcPR2g1"
      },
      "execution_count": null,
      "outputs": []
    },
    {
      "cell_type": "code",
      "source": [
        "# change the categorical type\n",
        "credit_card.SEX=credit_card.SEX.astype('category')\n",
        "credit_card.EDUCATION=credit_card.EDUCATION.astype('category')\n",
        "credit_card.MARRIAGE=credit_card.MARRIAGE.astype('category')\n",
        "print(credit_card.dtypes)"
      ],
      "metadata": {
        "colab": {
          "base_uri": "https://localhost:8080/"
        },
        "id": "CkrmhmM6hEIK",
        "outputId": "31f4c31f-318e-400a-ff63-ec7ede33378d"
      },
      "execution_count": null,
      "outputs": [
        {
          "output_type": "stream",
          "name": "stdout",
          "text": [
            "LIMIT_BAL       int64\n",
            "SEX          category\n",
            "EDUCATION    category\n",
            "MARRIAGE     category\n",
            "AGE             int64\n",
            "default         int64\n",
            "dtype: object\n"
          ]
        }
      ]
    },
    {
      "cell_type": "code",
      "source": [
        "# preview of the dataset\n",
        "credit_card.head(5)"
      ],
      "metadata": {
        "colab": {
          "base_uri": "https://localhost:8080/",
          "height": 206
        },
        "id": "XXEnJHC-EsCA",
        "outputId": "4d010f00-3552-4f89-d951-959b7cfea38b"
      },
      "execution_count": null,
      "outputs": [
        {
          "output_type": "execute_result",
          "data": {
            "text/plain": [
              "   LIMIT_BAL SEX EDUCATION MARRIAGE  AGE  default\n",
              "0      20000   2         2        1   24        1\n",
              "1     120000   2         2        2   26        1\n",
              "2      90000   2         2        2   34        0\n",
              "3      50000   2         2        1   37        0\n",
              "4      50000   1         2        1   57        0"
            ],
            "text/html": [
              "\n",
              "  <div id=\"df-4e8a420b-ecce-4eb9-be82-00cab1d1c6d9\">\n",
              "    <div class=\"colab-df-container\">\n",
              "      <div>\n",
              "<style scoped>\n",
              "    .dataframe tbody tr th:only-of-type {\n",
              "        vertical-align: middle;\n",
              "    }\n",
              "\n",
              "    .dataframe tbody tr th {\n",
              "        vertical-align: top;\n",
              "    }\n",
              "\n",
              "    .dataframe thead th {\n",
              "        text-align: right;\n",
              "    }\n",
              "</style>\n",
              "<table border=\"1\" class=\"dataframe\">\n",
              "  <thead>\n",
              "    <tr style=\"text-align: right;\">\n",
              "      <th></th>\n",
              "      <th>LIMIT_BAL</th>\n",
              "      <th>SEX</th>\n",
              "      <th>EDUCATION</th>\n",
              "      <th>MARRIAGE</th>\n",
              "      <th>AGE</th>\n",
              "      <th>default</th>\n",
              "    </tr>\n",
              "  </thead>\n",
              "  <tbody>\n",
              "    <tr>\n",
              "      <th>0</th>\n",
              "      <td>20000</td>\n",
              "      <td>2</td>\n",
              "      <td>2</td>\n",
              "      <td>1</td>\n",
              "      <td>24</td>\n",
              "      <td>1</td>\n",
              "    </tr>\n",
              "    <tr>\n",
              "      <th>1</th>\n",
              "      <td>120000</td>\n",
              "      <td>2</td>\n",
              "      <td>2</td>\n",
              "      <td>2</td>\n",
              "      <td>26</td>\n",
              "      <td>1</td>\n",
              "    </tr>\n",
              "    <tr>\n",
              "      <th>2</th>\n",
              "      <td>90000</td>\n",
              "      <td>2</td>\n",
              "      <td>2</td>\n",
              "      <td>2</td>\n",
              "      <td>34</td>\n",
              "      <td>0</td>\n",
              "    </tr>\n",
              "    <tr>\n",
              "      <th>3</th>\n",
              "      <td>50000</td>\n",
              "      <td>2</td>\n",
              "      <td>2</td>\n",
              "      <td>1</td>\n",
              "      <td>37</td>\n",
              "      <td>0</td>\n",
              "    </tr>\n",
              "    <tr>\n",
              "      <th>4</th>\n",
              "      <td>50000</td>\n",
              "      <td>1</td>\n",
              "      <td>2</td>\n",
              "      <td>1</td>\n",
              "      <td>57</td>\n",
              "      <td>0</td>\n",
              "    </tr>\n",
              "  </tbody>\n",
              "</table>\n",
              "</div>\n",
              "      <button class=\"colab-df-convert\" onclick=\"convertToInteractive('df-4e8a420b-ecce-4eb9-be82-00cab1d1c6d9')\"\n",
              "              title=\"Convert this dataframe to an interactive table.\"\n",
              "              style=\"display:none;\">\n",
              "        \n",
              "  <svg xmlns=\"http://www.w3.org/2000/svg\" height=\"24px\"viewBox=\"0 0 24 24\"\n",
              "       width=\"24px\">\n",
              "    <path d=\"M0 0h24v24H0V0z\" fill=\"none\"/>\n",
              "    <path d=\"M18.56 5.44l.94 2.06.94-2.06 2.06-.94-2.06-.94-.94-2.06-.94 2.06-2.06.94zm-11 1L8.5 8.5l.94-2.06 2.06-.94-2.06-.94L8.5 2.5l-.94 2.06-2.06.94zm10 10l.94 2.06.94-2.06 2.06-.94-2.06-.94-.94-2.06-.94 2.06-2.06.94z\"/><path d=\"M17.41 7.96l-1.37-1.37c-.4-.4-.92-.59-1.43-.59-.52 0-1.04.2-1.43.59L10.3 9.45l-7.72 7.72c-.78.78-.78 2.05 0 2.83L4 21.41c.39.39.9.59 1.41.59.51 0 1.02-.2 1.41-.59l7.78-7.78 2.81-2.81c.8-.78.8-2.07 0-2.86zM5.41 20L4 18.59l7.72-7.72 1.47 1.35L5.41 20z\"/>\n",
              "  </svg>\n",
              "      </button>\n",
              "      \n",
              "  <style>\n",
              "    .colab-df-container {\n",
              "      display:flex;\n",
              "      flex-wrap:wrap;\n",
              "      gap: 12px;\n",
              "    }\n",
              "\n",
              "    .colab-df-convert {\n",
              "      background-color: #E8F0FE;\n",
              "      border: none;\n",
              "      border-radius: 50%;\n",
              "      cursor: pointer;\n",
              "      display: none;\n",
              "      fill: #1967D2;\n",
              "      height: 32px;\n",
              "      padding: 0 0 0 0;\n",
              "      width: 32px;\n",
              "    }\n",
              "\n",
              "    .colab-df-convert:hover {\n",
              "      background-color: #E2EBFA;\n",
              "      box-shadow: 0px 1px 2px rgba(60, 64, 67, 0.3), 0px 1px 3px 1px rgba(60, 64, 67, 0.15);\n",
              "      fill: #174EA6;\n",
              "    }\n",
              "\n",
              "    [theme=dark] .colab-df-convert {\n",
              "      background-color: #3B4455;\n",
              "      fill: #D2E3FC;\n",
              "    }\n",
              "\n",
              "    [theme=dark] .colab-df-convert:hover {\n",
              "      background-color: #434B5C;\n",
              "      box-shadow: 0px 1px 3px 1px rgba(0, 0, 0, 0.15);\n",
              "      filter: drop-shadow(0px 1px 2px rgba(0, 0, 0, 0.3));\n",
              "      fill: #FFFFFF;\n",
              "    }\n",
              "  </style>\n",
              "\n",
              "      <script>\n",
              "        const buttonEl =\n",
              "          document.querySelector('#df-4e8a420b-ecce-4eb9-be82-00cab1d1c6d9 button.colab-df-convert');\n",
              "        buttonEl.style.display =\n",
              "          google.colab.kernel.accessAllowed ? 'block' : 'none';\n",
              "\n",
              "        async function convertToInteractive(key) {\n",
              "          const element = document.querySelector('#df-4e8a420b-ecce-4eb9-be82-00cab1d1c6d9');\n",
              "          const dataTable =\n",
              "            await google.colab.kernel.invokeFunction('convertToInteractive',\n",
              "                                                     [key], {});\n",
              "          if (!dataTable) return;\n",
              "\n",
              "          const docLinkHtml = 'Like what you see? Visit the ' +\n",
              "            '<a target=\"_blank\" href=https://colab.research.google.com/notebooks/data_table.ipynb>data table notebook</a>'\n",
              "            + ' to learn more about interactive tables.';\n",
              "          element.innerHTML = '';\n",
              "          dataTable['output_type'] = 'display_data';\n",
              "          await google.colab.output.renderOutput(dataTable, element);\n",
              "          const docLink = document.createElement('div');\n",
              "          docLink.innerHTML = docLinkHtml;\n",
              "          element.appendChild(docLink);\n",
              "        }\n",
              "      </script>\n",
              "    </div>\n",
              "  </div>\n",
              "  "
            ]
          },
          "metadata": {},
          "execution_count": 8
        }
      ]
    },
    {
      "cell_type": "markdown",
      "source": [
        "### 2. identify the categorical features (with brief explanation)"
      ],
      "metadata": {
        "id": "Q-LkonQ5JSe3"
      }
    },
    {
      "cell_type": "markdown",
      "source": [
        "Categorical features:\n",
        "1. SEX\n",
        "<br>This is divided to two categories: 1 = male; 2 = female. It means the whole customer set can be divided by their gender.\n",
        "2. EDUCATION\n",
        "<br>There are four categories in this feature: 1 = graduate school; 2 = university; 3 = high school; 4 = others. This implies that we could differentiate customer by thier educational background. It makes education as a categorical variable.\n",
        "3. MARRIAGE\n",
        "<br>Also, this is divided to three marital stauts: 1 = married; 2 = single; 3 = others. We could use this to discover the relationship with marital status of customers and the outcome variable.\n",
        "4. default payment next month (now named 'default')\n",
        "<br>This feature being the outcome variable is a boolean. 0 being no, and 1 being yes. And we can match all the customers into this two results in this dataset."
      ],
      "metadata": {
        "id": "repPwihnWbkK"
      }
    },
    {
      "cell_type": "markdown",
      "source": [
        "### 3. produce the pairwise scatter plot"
      ],
      "metadata": {
        "id": "V7yjvIJOJX6u"
      }
    },
    {
      "cell_type": "code",
      "source": [
        "sns.pairplot(credit_card[[\"LIMIT_BAL\", \"AGE\"]])"
      ],
      "metadata": {
        "colab": {
          "base_uri": "https://localhost:8080/",
          "height": 392
        },
        "id": "V-Ip5ETDTo2W",
        "outputId": "8a0d1f17-f9c8-4ad9-cc0e-1f4e0bc8f219"
      },
      "execution_count": null,
      "outputs": [
        {
          "output_type": "execute_result",
          "data": {
            "text/plain": [
              "<seaborn.axisgrid.PairGrid at 0x7f6791ac3050>"
            ]
          },
          "metadata": {},
          "execution_count": 9
        },
        {
          "output_type": "display_data",
          "data": {
            "text/plain": [
              "<Figure size 360x360 with 6 Axes>"
            ],
            "image/png": "[encoded data removed]"
          },
          "metadata": {}
        }
      ]
    },
    {
      "cell_type": "markdown",
      "source": [
        "## 2. Prepare a pipeline to"
      ],
      "metadata": {
        "id": "aNw5wnUBBOtk"
      }
    },
    {
      "cell_type": "markdown",
      "source": [
        "### 1. standardize the numeric attributes"
      ],
      "metadata": {
        "id": "epkrZc4iIHN7"
      }
    },
    {
      "cell_type": "code",
      "source": [
        "# standardizing the numeric columns\n",
        "from sklearn.pipeline import Pipeline\n",
        "from sklearn.impute import SimpleImputer\n",
        "from sklearn.preprocessing import StandardScaler\n",
        "from sklearn import set_config\n",
        "\n",
        "set_config(display='diagram')\n",
        "\n",
        "num_pipeline = Pipeline([\n",
        "        (\"imputer\", SimpleImputer(strategy=\"median\")),\n",
        "        (\"scaler\", StandardScaler())\n",
        "    ])"
      ],
      "metadata": {
        "id": "qxMl0M3gRd0Q"
      },
      "execution_count": null,
      "outputs": []
    },
    {
      "cell_type": "code",
      "source": [
        "fig, axs = plt.subplots(1, 2, figsize=(8, 3), sharey=True)\n",
        "credit_card[\"LIMIT_BAL\"].hist(ax=axs[0], bins=50)\n",
        "credit_card[\"LIMIT_BAL\"].apply(np.log).hist(ax=axs[1], bins=50)\n",
        "axs[0].set_xlabel(\"LIMIT_BAL\")\n",
        "axs[1].set_xlabel(\"Log of LIMIT_BAL\")\n",
        "axs[0].set_ylabel(\"Number of clients\")\n",
        "plt.show()"
      ],
      "metadata": {
        "colab": {
          "base_uri": "https://localhost:8080/",
          "height": 221
        },
        "id": "qAcAT28dOcJd",
        "outputId": "6301cf4e-e831-4aba-ce01-9ee60c3e01f8"
      },
      "execution_count": null,
      "outputs": [
        {
          "output_type": "display_data",
          "data": {
            "text/plain": [
              "<Figure size 576x216 with 2 Axes>"
            ],
            "image/png": "[encoded data removed]"
          },
          "metadata": {}
        }
      ]
    },
    {
      "cell_type": "markdown",
      "source": [
        "### 2.  expand the categorical attributes to columns of 0/1 variables"
      ],
      "metadata": {
        "id": "7b4aPKWZJAm9"
      }
    },
    {
      "cell_type": "code",
      "source": [
        "# expanding the categorical variables\n",
        "from sklearn.preprocessing import OneHotEncoder\n",
        "cat_pipeline = Pipeline([\n",
        "        (\"imputer\", SimpleImputer(strategy=\"most_frequent\")),\n",
        "        (\"cat_encoder\", OneHotEncoder(sparse=False, drop=\"first\"))\n",
        "    ])"
      ],
      "metadata": {
        "id": "TSGqsIjvJB1f"
      },
      "execution_count": null,
      "outputs": []
    },
    {
      "cell_type": "markdown",
      "source": [
        "### 3.  fit a RandomForestClassifier classifier"
      ],
      "metadata": {
        "id": "tWxsgHQ_JDP9"
      }
    },
    {
      "cell_type": "code",
      "source": [
        "from sklearn.compose import ColumnTransformer\n",
        "from sklearn.preprocessing import StandardScaler\n",
        "from sklearn.svm import SVC  \n",
        "\n",
        "num_attribs = [\"LIMIT_BAL\", \"AGE\"]\n",
        "cat_attribs = [\"SEX\", \"EDUCATION\", \"MARRIAGE\"]\n",
        "\n",
        "# The following step patches SimpleImputer to produce feature names\n",
        "SimpleImputer.get_feature_names_out = StandardScaler.get_feature_names_out\n",
        "\n",
        "preprocess_pipeline = ColumnTransformer([ \n",
        "        (\"num\", num_pipeline, num_attribs),\n",
        "        (\"cat\", cat_pipeline, cat_attribs),\n",
        "    ])\n",
        "\n",
        "preprocess_pipeline"
      ],
      "metadata": {
        "id": "SK7U8FK-JEmt",
        "colab": {
          "base_uri": "https://localhost:8080/",
          "height": 152
        },
        "outputId": "a247464f-2fcb-46ab-eda2-b743bba7ebd0"
      },
      "execution_count": null,
      "outputs": [
        {
          "output_type": "execute_result",
          "data": {
            "text/plain": [
              "ColumnTransformer(transformers=[('num',\n",
              "                                 Pipeline(steps=[('imputer',\n",
              "                                                  SimpleImputer(strategy='median')),\n",
              "                                                 ('scaler', StandardScaler())]),\n",
              "                                 ['LIMIT_BAL', 'AGE']),\n",
              "                                ('cat',\n",
              "                                 Pipeline(steps=[('imputer',\n",
              "                                                  SimpleImputer(strategy='most_frequent')),\n",
              "                                                 ('cat_encoder',\n",
              "                                                  OneHotEncoder(drop='first',\n",
              "                                                                sparse=False))]),\n",
              "                                 ['SEX', 'EDUCATION', 'MARRIAGE'])])"
            ],
            "text/html": [
              "<style>#sk-44b02d6b-8b4b-464c-aa38-54820aebca22 {color: black;background-color: white;}#sk-44b02d6b-8b4b-464c-aa38-54820aebca22 pre{padding: 0;}#sk-44b02d6b-8b4b-464c-aa38-54820aebca22 div.sk-toggleable {background-color: white;}#sk-44b02d6b-8b4b-464c-aa38-54820aebca22 label.sk-toggleable__label {cursor: pointer;display: block;width: 100%;margin-bottom: 0;padding: 0.3em;box-sizing: border-box;text-align: center;}#sk-44b02d6b-8b4b-464c-aa38-54820aebca22 label.sk-toggleable__label-arrow:before {content: \"▸\";float: left;margin-right: 0.25em;color: #696969;}#sk-44b02d6b-8b4b-464c-aa38-54820aebca22 label.sk-toggleable__label-arrow:hover:before {color: black;}#sk-44b02d6b-8b4b-464c-aa38-54820aebca22 div.sk-estimator:hover label.sk-toggleable__label-arrow:before {color: black;}#sk-44b02d6b-8b4b-464c-aa38-54820aebca22 div.sk-toggleable__content {max-height: 0;max-width: 0;overflow: hidden;text-align: left;background-color: #f0f8ff;}#sk-44b02d6b-8b4b-464c-aa38-54820aebca22 div.sk-toggleable__content pre {margin: 0.2em;color: black;border-radius: 0.25em;background-color: #f0f8ff;}#sk-44b02d6b-8b4b-464c-aa38-54820aebca22 input.sk-toggleable__control:checked~div.sk-toggleable__content {max-height: 200px;max-width: 100%;overflow: auto;}#sk-44b02d6b-8b4b-464c-aa38-54820aebca22 input.sk-toggleable__control:checked~label.sk-toggleable__label-arrow:before {content: \"▾\";}#sk-44b02d6b-8b4b-464c-aa38-54820aebca22 div.sk-estimator input.sk-toggleable__control:checked~label.sk-toggleable__label {background-color: #d4ebff;}#sk-44b02d6b-8b4b-464c-aa38-54820aebca22 div.sk-label input.sk-toggleable__control:checked~label.sk-toggleable__label {background-color: #d4ebff;}#sk-44b02d6b-8b4b-464c-aa38-54820aebca22 input.sk-hidden--visually {border: 0;clip: rect(1px 1px 1px 1px);clip: rect(1px, 1px, 1px, 1px);height: 1px;margin: -1px;overflow: hidden;padding: 0;position: absolute;width: 1px;}#sk-44b02d6b-8b4b-464c-aa38-54820aebca22 div.sk-estimator {font-family: monospace;background-color: #f0f8ff;border: 1px dotted black;border-radius: 0.25em;box-sizing: border-box;margin-bottom: 0.5em;}#sk-44b02d6b-8b4b-464c-aa38-54820aebca22 div.sk-estimator:hover {background-color: #d4ebff;}#sk-44b02d6b-8b4b-464c-aa38-54820aebca22 div.sk-parallel-item::after {content: \"\";width: 100%;border-bottom: 1px solid gray;flex-grow: 1;}#sk-44b02d6b-8b4b-464c-aa38-54820aebca22 div.sk-label:hover label.sk-toggleable__label {background-color: #d4ebff;}#sk-44b02d6b-8b4b-464c-aa38-54820aebca22 div.sk-serial::before {content: \"\";position: absolute;border-left: 1px solid gray;box-sizing: border-box;top: 2em;bottom: 0;left: 50%;}#sk-44b02d6b-8b4b-464c-aa38-54820aebca22 div.sk-serial {display: flex;flex-direction: column;align-items: center;background-color: white;padding-right: 0.2em;padding-left: 0.2em;}#sk-44b02d6b-8b4b-464c-aa38-54820aebca22 div.sk-item {z-index: 1;}#sk-44b02d6b-8b4b-464c-aa38-54820aebca22 div.sk-parallel {display: flex;align-items: stretch;justify-content: center;background-color: white;}#sk-44b02d6b-8b4b-464c-aa38-54820aebca22 div.sk-parallel::before {content: \"\";position: absolute;border-left: 1px solid gray;box-sizing: border-box;top: 2em;bottom: 0;left: 50%;}#sk-44b02d6b-8b4b-464c-aa38-54820aebca22 div.sk-parallel-item {display: flex;flex-direction: column;position: relative;background-color: white;}#sk-44b02d6b-8b4b-464c-aa38-54820aebca22 div.sk-parallel-item:first-child::after {align-self: flex-end;width: 50%;}#sk-44b02d6b-8b4b-464c-aa38-54820aebca22 div.sk-parallel-item:last-child::after {align-self: flex-start;width: 50%;}#sk-44b02d6b-8b4b-464c-aa38-54820aebca22 div.sk-parallel-item:only-child::after {width: 0;}#sk-44b02d6b-8b4b-464c-aa38-54820aebca22 div.sk-dashed-wrapped {border: 1px dashed gray;margin: 0 0.4em 0.5em 0.4em;box-sizing: border-box;padding-bottom: 0.4em;background-color: white;position: relative;}#sk-44b02d6b-8b4b-464c-aa38-54820aebca22 div.sk-label label {font-family: monospace;font-weight: bold;background-color: white;display: inline-block;line-height: 1.2em;}#sk-44b02d6b-8b4b-464c-aa38-54820aebca22 div.sk-label-container {position: relative;z-index: 2;text-align: center;}#sk-44b02d6b-8b4b-464c-aa38-54820aebca22 div.sk-container {/* jupyter's `normalize.less` sets `[hidden] { display: none; }` but bootstrap.min.css set `[hidden] { display: none !important; }` so we also need the `!important` here to be able to override the default hidden behavior on the sphinx rendered scikit-learn.org. See: https://github.com/scikit-learn/scikit-learn/issues/21755 */display: inline-block !important;position: relative;}#sk-44b02d6b-8b4b-464c-aa38-54820aebca22 div.sk-text-repr-fallback {display: none;}</style><div id=\"sk-44b02d6b-8b4b-464c-aa38-54820aebca22\" class=\"sk-top-container\"><div class=\"sk-text-repr-fallback\"><pre>ColumnTransformer(transformers=[(&#x27;num&#x27;,\n",
              "                                 Pipeline(steps=[(&#x27;imputer&#x27;,\n",
              "                                                  SimpleImputer(strategy=&#x27;median&#x27;)),\n",
              "                                                 (&#x27;scaler&#x27;, StandardScaler())]),\n",
              "                                 [&#x27;LIMIT_BAL&#x27;, &#x27;AGE&#x27;]),\n",
              "                                (&#x27;cat&#x27;,\n",
              "                                 Pipeline(steps=[(&#x27;imputer&#x27;,\n",
              "                                                  SimpleImputer(strategy=&#x27;most_frequent&#x27;)),\n",
              "                                                 (&#x27;cat_encoder&#x27;,\n",
              "                                                  OneHotEncoder(drop=&#x27;first&#x27;,\n",
              "                                                                sparse=False))]),\n",
              "                                 [&#x27;SEX&#x27;, &#x27;EDUCATION&#x27;, &#x27;MARRIAGE&#x27;])])</pre><b>Please rerun this cell to show the HTML repr or trust the notebook.</b></div><div class=\"sk-container\" hidden><div class=\"sk-item sk-dashed-wrapped\"><div class=\"sk-label-container\"><div class=\"sk-label sk-toggleable\"><input class=\"sk-toggleable__control sk-hidden--visually\" id=\"aba58477-3cd8-4456-a01d-b6019d128bf5\" type=\"checkbox\" ><label for=\"aba58477-3cd8-4456-a01d-b6019d128bf5\" class=\"sk-toggleable__label sk-toggleable__label-arrow\">ColumnTransformer</label><div class=\"sk-toggleable__content\"><pre>ColumnTransformer(transformers=[(&#x27;num&#x27;,\n",
              "                                 Pipeline(steps=[(&#x27;imputer&#x27;,\n",
              "                                                  SimpleImputer(strategy=&#x27;median&#x27;)),\n",
              "                                                 (&#x27;scaler&#x27;, StandardScaler())]),\n",
              "                                 [&#x27;LIMIT_BAL&#x27;, &#x27;AGE&#x27;]),\n",
              "                                (&#x27;cat&#x27;,\n",
              "                                 Pipeline(steps=[(&#x27;imputer&#x27;,\n",
              "                                                  SimpleImputer(strategy=&#x27;most_frequent&#x27;)),\n",
              "                                                 (&#x27;cat_encoder&#x27;,\n",
              "                                                  OneHotEncoder(drop=&#x27;first&#x27;,\n",
              "                                                                sparse=False))]),\n",
              "                                 [&#x27;SEX&#x27;, &#x27;EDUCATION&#x27;, &#x27;MARRIAGE&#x27;])])</pre></div></div></div><div class=\"sk-parallel\"><div class=\"sk-parallel-item\"><div class=\"sk-item\"><div class=\"sk-label-container\"><div class=\"sk-label sk-toggleable\"><input class=\"sk-toggleable__control sk-hidden--visually\" id=\"ed79495a-90ca-4c35-a539-00a923163613\" type=\"checkbox\" ><label for=\"ed79495a-90ca-4c35-a539-00a923163613\" class=\"sk-toggleable__label sk-toggleable__label-arrow\">num</label><div class=\"sk-toggleable__content\"><pre>[&#x27;LIMIT_BAL&#x27;, &#x27;AGE&#x27;]</pre></div></div></div><div class=\"sk-serial\"><div class=\"sk-item\"><div class=\"sk-serial\"><div class=\"sk-item\"><div class=\"sk-estimator sk-toggleable\"><input class=\"sk-toggleable__control sk-hidden--visually\" id=\"1d639f22-e5ab-4b15-8cd0-79dd0934ebf5\" type=\"checkbox\" ><label for=\"1d639f22-e5ab-4b15-8cd0-79dd0934ebf5\" class=\"sk-toggleable__label sk-toggleable__label-arrow\">SimpleImputer</label><div class=\"sk-toggleable__content\"><pre>SimpleImputer(strategy=&#x27;median&#x27;)</pre></div></div></div><div class=\"sk-item\"><div class=\"sk-estimator sk-toggleable\"><input class=\"sk-toggleable__control sk-hidden--visually\" id=\"ad3b4264-1f3b-4e62-b661-350cb299a283\" type=\"checkbox\" ><label for=\"ad3b4264-1f3b-4e62-b661-350cb299a283\" class=\"sk-toggleable__label sk-toggleable__label-arrow\">StandardScaler</label><div class=\"sk-toggleable__content\"><pre>StandardScaler()</pre></div></div></div></div></div></div></div></div><div class=\"sk-parallel-item\"><div class=\"sk-item\"><div class=\"sk-label-container\"><div class=\"sk-label sk-toggleable\"><input class=\"sk-toggleable__control sk-hidden--visually\" id=\"ae1b567a-216f-44ab-9bad-36a29859f5f8\" type=\"checkbox\" ><label for=\"ae1b567a-216f-44ab-9bad-36a29859f5f8\" class=\"sk-toggleable__label sk-toggleable__label-arrow\">cat</label><div class=\"sk-toggleable__content\"><pre>[&#x27;SEX&#x27;, &#x27;EDUCATION&#x27;, &#x27;MARRIAGE&#x27;]</pre></div></div></div><div class=\"sk-serial\"><div class=\"sk-item\"><div class=\"sk-serial\"><div class=\"sk-item\"><div class=\"sk-estimator sk-toggleable\"><input class=\"sk-toggleable__control sk-hidden--visually\" id=\"9afed9a1-4fcb-4cba-b258-2965a7752972\" type=\"checkbox\" ><label for=\"9afed9a1-4fcb-4cba-b258-2965a7752972\" class=\"sk-toggleable__label sk-toggleable__label-arrow\">SimpleImputer</label><div class=\"sk-toggleable__content\"><pre>SimpleImputer(strategy=&#x27;most_frequent&#x27;)</pre></div></div></div><div class=\"sk-item\"><div class=\"sk-estimator sk-toggleable\"><input class=\"sk-toggleable__control sk-hidden--visually\" id=\"d70dd031-380e-4fa6-a436-ff960c970b47\" type=\"checkbox\" ><label for=\"d70dd031-380e-4fa6-a436-ff960c970b47\" class=\"sk-toggleable__label sk-toggleable__label-arrow\">OneHotEncoder</label><div class=\"sk-toggleable__content\"><pre>OneHotEncoder(drop=&#x27;first&#x27;, sparse=False)</pre></div></div></div></div></div></div></div></div></div></div></div></div>"
            ]
          },
          "metadata": {},
          "execution_count": 13
        }
      ]
    },
    {
      "cell_type": "code",
      "source": [
        "from sklearn.model_selection import train_test_split\n",
        "train_data, test_data = train_test_split(credit_card, test_size = .25, random_state=0)\n",
        "\n",
        "train_data.shape, test_data.shape"
      ],
      "metadata": {
        "colab": {
          "base_uri": "https://localhost:8080/"
        },
        "id": "kB_DlL6DTr5l",
        "outputId": "e32b515c-dd5d-462f-e306-1b6d1406564b"
      },
      "execution_count": null,
      "outputs": [
        {
          "output_type": "execute_result",
          "data": {
            "text/plain": [
              "((22500, 6), (7500, 6))"
            ]
          },
          "metadata": {},
          "execution_count": 14
        }
      ]
    },
    {
      "cell_type": "code",
      "source": [
        "df_X = train_data.drop(\"default\", axis=1)\n",
        "df_y = train_data[\"default\"]\n",
        "print(df_X.head())  # to check that \"default\" isn't included\n",
        "\n",
        "X_train = preprocess_pipeline.fit_transform(df_X)\n",
        "y_train = df_y.values\n",
        "preprocess_pipeline.get_feature_names_out() # check the column names produced by the pipeline"
      ],
      "metadata": {
        "colab": {
          "base_uri": "https://localhost:8080/"
        },
        "id": "si5N6cAOTkk_",
        "outputId": "6132c8d2-bc17-45c2-dc27-8a7d7c4d71e7"
      },
      "execution_count": null,
      "outputs": [
        {
          "output_type": "stream",
          "name": "stdout",
          "text": [
            "       LIMIT_BAL SEX EDUCATION MARRIAGE  AGE\n",
            "12880     130000   2         1        2   27\n",
            "14868     130000   2         3        1   53\n",
            "14280     140000   1         3        1   38\n",
            "5318      270000   2         2        1   33\n",
            "15421     220000   2         2        1   53\n"
          ]
        },
        {
          "output_type": "execute_result",
          "data": {
            "text/plain": [
              "array(['num__LIMIT_BAL', 'num__AGE', 'cat__SEX_2', 'cat__EDUCATION_1',\n",
              "       'cat__EDUCATION_2', 'cat__EDUCATION_3', 'cat__EDUCATION_4',\n",
              "       'cat__EDUCATION_5', 'cat__EDUCATION_6', 'cat__MARRIAGE_1',\n",
              "       'cat__MARRIAGE_2', 'cat__MARRIAGE_3'], dtype=object)"
            ]
          },
          "metadata": {},
          "execution_count": 15
        }
      ]
    },
    {
      "cell_type": "code",
      "source": [
        "from sklearn.ensemble import RandomForestClassifier\n",
        "full_pipeline = Pipeline([\n",
        "    ('preprocessing', preprocess_pipeline),\n",
        "    ('random_forest',RandomForestClassifier(n_estimators=102, random_state=42)),\n",
        "])\n",
        "full_pipeline"
      ],
      "metadata": {
        "colab": {
          "base_uri": "https://localhost:8080/",
          "height": 227
        },
        "id": "oiNkXRO7jF40",
        "outputId": "3ed04e30-b0c2-41b4-fc21-391dbe0ecddd"
      },
      "execution_count": null,
      "outputs": [
        {
          "output_type": "execute_result",
          "data": {
            "text/plain": [
              "Pipeline(steps=[('preprocessing',\n",
              "                 ColumnTransformer(transformers=[('num',\n",
              "                                                  Pipeline(steps=[('imputer',\n",
              "                                                                   SimpleImputer(strategy='median')),\n",
              "                                                                  ('scaler',\n",
              "                                                                   StandardScaler())]),\n",
              "                                                  ['LIMIT_BAL', 'AGE']),\n",
              "                                                 ('cat',\n",
              "                                                  Pipeline(steps=[('imputer',\n",
              "                                                                   SimpleImputer(strategy='most_frequent')),\n",
              "                                                                  ('cat_encoder',\n",
              "                                                                   OneHotEncoder(drop='first',\n",
              "                                                                                 sparse=False))]),\n",
              "                                                  ['SEX', 'EDUCATION',\n",
              "                                                   'MARRIAGE'])])),\n",
              "                ('random_forest',\n",
              "                 RandomForestClassifier(n_estimators=102, random_state=42))])"
            ],
            "text/html": [
              "<style>#sk-387a97de-46bb-4bf1-a9dc-4edcd9e6599b {color: black;background-color: white;}#sk-387a97de-46bb-4bf1-a9dc-4edcd9e6599b pre{padding: 0;}#sk-387a97de-46bb-4bf1-a9dc-4edcd9e6599b div.sk-toggleable {background-color: white;}#sk-387a97de-46bb-4bf1-a9dc-4edcd9e6599b label.sk-toggleable__label {cursor: pointer;display: block;width: 100%;margin-bottom: 0;padding: 0.3em;box-sizing: border-box;text-align: center;}#sk-387a97de-46bb-4bf1-a9dc-4edcd9e6599b label.sk-toggleable__label-arrow:before {content: \"▸\";float: left;margin-right: 0.25em;color: #696969;}#sk-387a97de-46bb-4bf1-a9dc-4edcd9e6599b label.sk-toggleable__label-arrow:hover:before {color: black;}#sk-387a97de-46bb-4bf1-a9dc-4edcd9e6599b div.sk-estimator:hover label.sk-toggleable__label-arrow:before {color: black;}#sk-387a97de-46bb-4bf1-a9dc-4edcd9e6599b div.sk-toggleable__content {max-height: 0;max-width: 0;overflow: hidden;text-align: left;background-color: #f0f8ff;}#sk-387a97de-46bb-4bf1-a9dc-4edcd9e6599b div.sk-toggleable__content pre {margin: 0.2em;color: black;border-radius: 0.25em;background-color: #f0f8ff;}#sk-387a97de-46bb-4bf1-a9dc-4edcd9e6599b input.sk-toggleable__control:checked~div.sk-toggleable__content {max-height: 200px;max-width: 100%;overflow: auto;}#sk-387a97de-46bb-4bf1-a9dc-4edcd9e6599b input.sk-toggleable__control:checked~label.sk-toggleable__label-arrow:before {content: \"▾\";}#sk-387a97de-46bb-4bf1-a9dc-4edcd9e6599b div.sk-estimator input.sk-toggleable__control:checked~label.sk-toggleable__label {background-color: #d4ebff;}#sk-387a97de-46bb-4bf1-a9dc-4edcd9e6599b div.sk-label input.sk-toggleable__control:checked~label.sk-toggleable__label {background-color: #d4ebff;}#sk-387a97de-46bb-4bf1-a9dc-4edcd9e6599b input.sk-hidden--visually {border: 0;clip: rect(1px 1px 1px 1px);clip: rect(1px, 1px, 1px, 1px);height: 1px;margin: -1px;overflow: hidden;padding: 0;position: absolute;width: 1px;}#sk-387a97de-46bb-4bf1-a9dc-4edcd9e6599b div.sk-estimator {font-family: monospace;background-color: #f0f8ff;border: 1px dotted black;border-radius: 0.25em;box-sizing: border-box;margin-bottom: 0.5em;}#sk-387a97de-46bb-4bf1-a9dc-4edcd9e6599b div.sk-estimator:hover {background-color: #d4ebff;}#sk-387a97de-46bb-4bf1-a9dc-4edcd9e6599b div.sk-parallel-item::after {content: \"\";width: 100%;border-bottom: 1px solid gray;flex-grow: 1;}#sk-387a97de-46bb-4bf1-a9dc-4edcd9e6599b div.sk-label:hover label.sk-toggleable__label {background-color: #d4ebff;}#sk-387a97de-46bb-4bf1-a9dc-4edcd9e6599b div.sk-serial::before {content: \"\";position: absolute;border-left: 1px solid gray;box-sizing: border-box;top: 2em;bottom: 0;left: 50%;}#sk-387a97de-46bb-4bf1-a9dc-4edcd9e6599b div.sk-serial {display: flex;flex-direction: column;align-items: center;background-color: white;padding-right: 0.2em;padding-left: 0.2em;}#sk-387a97de-46bb-4bf1-a9dc-4edcd9e6599b div.sk-item {z-index: 1;}#sk-387a97de-46bb-4bf1-a9dc-4edcd9e6599b div.sk-parallel {display: flex;align-items: stretch;justify-content: center;background-color: white;}#sk-387a97de-46bb-4bf1-a9dc-4edcd9e6599b div.sk-parallel::before {content: \"\";position: absolute;border-left: 1px solid gray;box-sizing: border-box;top: 2em;bottom: 0;left: 50%;}#sk-387a97de-46bb-4bf1-a9dc-4edcd9e6599b div.sk-parallel-item {display: flex;flex-direction: column;position: relative;background-color: white;}#sk-387a97de-46bb-4bf1-a9dc-4edcd9e6599b div.sk-parallel-item:first-child::after {align-self: flex-end;width: 50%;}#sk-387a97de-46bb-4bf1-a9dc-4edcd9e6599b div.sk-parallel-item:last-child::after {align-self: flex-start;width: 50%;}#sk-387a97de-46bb-4bf1-a9dc-4edcd9e6599b div.sk-parallel-item:only-child::after {width: 0;}#sk-387a97de-46bb-4bf1-a9dc-4edcd9e6599b div.sk-dashed-wrapped {border: 1px dashed gray;margin: 0 0.4em 0.5em 0.4em;box-sizing: border-box;padding-bottom: 0.4em;background-color: white;position: relative;}#sk-387a97de-46bb-4bf1-a9dc-4edcd9e6599b div.sk-label label {font-family: monospace;font-weight: bold;background-color: white;display: inline-block;line-height: 1.2em;}#sk-387a97de-46bb-4bf1-a9dc-4edcd9e6599b div.sk-label-container {position: relative;z-index: 2;text-align: center;}#sk-387a97de-46bb-4bf1-a9dc-4edcd9e6599b div.sk-container {/* jupyter's `normalize.less` sets `[hidden] { display: none; }` but bootstrap.min.css set `[hidden] { display: none !important; }` so we also need the `!important` here to be able to override the default hidden behavior on the sphinx rendered scikit-learn.org. See: https://github.com/scikit-learn/scikit-learn/issues/21755 */display: inline-block !important;position: relative;}#sk-387a97de-46bb-4bf1-a9dc-4edcd9e6599b div.sk-text-repr-fallback {display: none;}</style><div id=\"sk-387a97de-46bb-4bf1-a9dc-4edcd9e6599b\" class=\"sk-top-container\"><div class=\"sk-text-repr-fallback\"><pre>Pipeline(steps=[(&#x27;preprocessing&#x27;,\n",
              "                 ColumnTransformer(transformers=[(&#x27;num&#x27;,\n",
              "                                                  Pipeline(steps=[(&#x27;imputer&#x27;,\n",
              "                                                                   SimpleImputer(strategy=&#x27;median&#x27;)),\n",
              "                                                                  (&#x27;scaler&#x27;,\n",
              "                                                                   StandardScaler())]),\n",
              "                                                  [&#x27;LIMIT_BAL&#x27;, &#x27;AGE&#x27;]),\n",
              "                                                 (&#x27;cat&#x27;,\n",
              "                                                  Pipeline(steps=[(&#x27;imputer&#x27;,\n",
              "                                                                   SimpleImputer(strategy=&#x27;most_frequent&#x27;)),\n",
              "                                                                  (&#x27;cat_encoder&#x27;,\n",
              "                                                                   OneHotEncoder(drop=&#x27;first&#x27;,\n",
              "                                                                                 sparse=False))]),\n",
              "                                                  [&#x27;SEX&#x27;, &#x27;EDUCATION&#x27;,\n",
              "                                                   &#x27;MARRIAGE&#x27;])])),\n",
              "                (&#x27;random_forest&#x27;,\n",
              "                 RandomForestClassifier(n_estimators=102, random_state=42))])</pre><b>Please rerun this cell to show the HTML repr or trust the notebook.</b></div><div class=\"sk-container\" hidden><div class=\"sk-item sk-dashed-wrapped\"><div class=\"sk-label-container\"><div class=\"sk-label sk-toggleable\"><input class=\"sk-toggleable__control sk-hidden--visually\" id=\"e85984c8-5a0d-40de-ac22-022f0b8e811f\" type=\"checkbox\" ><label for=\"e85984c8-5a0d-40de-ac22-022f0b8e811f\" class=\"sk-toggleable__label sk-toggleable__label-arrow\">Pipeline</label><div class=\"sk-toggleable__content\"><pre>Pipeline(steps=[(&#x27;preprocessing&#x27;,\n",
              "                 ColumnTransformer(transformers=[(&#x27;num&#x27;,\n",
              "                                                  Pipeline(steps=[(&#x27;imputer&#x27;,\n",
              "                                                                   SimpleImputer(strategy=&#x27;median&#x27;)),\n",
              "                                                                  (&#x27;scaler&#x27;,\n",
              "                                                                   StandardScaler())]),\n",
              "                                                  [&#x27;LIMIT_BAL&#x27;, &#x27;AGE&#x27;]),\n",
              "                                                 (&#x27;cat&#x27;,\n",
              "                                                  Pipeline(steps=[(&#x27;imputer&#x27;,\n",
              "                                                                   SimpleImputer(strategy=&#x27;most_frequent&#x27;)),\n",
              "                                                                  (&#x27;cat_encoder&#x27;,\n",
              "                                                                   OneHotEncoder(drop=&#x27;first&#x27;,\n",
              "                                                                                 sparse=False))]),\n",
              "                                                  [&#x27;SEX&#x27;, &#x27;EDUCATION&#x27;,\n",
              "                                                   &#x27;MARRIAGE&#x27;])])),\n",
              "                (&#x27;random_forest&#x27;,\n",
              "                 RandomForestClassifier(n_estimators=102, random_state=42))])</pre></div></div></div><div class=\"sk-serial\"><div class=\"sk-item sk-dashed-wrapped\"><div class=\"sk-label-container\"><div class=\"sk-label sk-toggleable\"><input class=\"sk-toggleable__control sk-hidden--visually\" id=\"3659e3f6-cdcc-4970-9e6e-96c72c358a0c\" type=\"checkbox\" ><label for=\"3659e3f6-cdcc-4970-9e6e-96c72c358a0c\" class=\"sk-toggleable__label sk-toggleable__label-arrow\">preprocessing: ColumnTransformer</label><div class=\"sk-toggleable__content\"><pre>ColumnTransformer(transformers=[(&#x27;num&#x27;,\n",
              "                                 Pipeline(steps=[(&#x27;imputer&#x27;,\n",
              "                                                  SimpleImputer(strategy=&#x27;median&#x27;)),\n",
              "                                                 (&#x27;scaler&#x27;, StandardScaler())]),\n",
              "                                 [&#x27;LIMIT_BAL&#x27;, &#x27;AGE&#x27;]),\n",
              "                                (&#x27;cat&#x27;,\n",
              "                                 Pipeline(steps=[(&#x27;imputer&#x27;,\n",
              "                                                  SimpleImputer(strategy=&#x27;most_frequent&#x27;)),\n",
              "                                                 (&#x27;cat_encoder&#x27;,\n",
              "                                                  OneHotEncoder(drop=&#x27;first&#x27;,\n",
              "                                                                sparse=False))]),\n",
              "                                 [&#x27;SEX&#x27;, &#x27;EDUCATION&#x27;, &#x27;MARRIAGE&#x27;])])</pre></div></div></div><div class=\"sk-parallel\"><div class=\"sk-parallel-item\"><div class=\"sk-item\"><div class=\"sk-label-container\"><div class=\"sk-label sk-toggleable\"><input class=\"sk-toggleable__control sk-hidden--visually\" id=\"5ba63c95-ebb1-43d2-965a-caa2c14355a4\" type=\"checkbox\" ><label for=\"5ba63c95-ebb1-43d2-965a-caa2c14355a4\" class=\"sk-toggleable__label sk-toggleable__label-arrow\">num</label><div class=\"sk-toggleable__content\"><pre>[&#x27;LIMIT_BAL&#x27;, &#x27;AGE&#x27;]</pre></div></div></div><div class=\"sk-serial\"><div class=\"sk-item\"><div class=\"sk-serial\"><div class=\"sk-item\"><div class=\"sk-estimator sk-toggleable\"><input class=\"sk-toggleable__control sk-hidden--visually\" id=\"b44c3e16-6e02-4e0d-93f5-41599c1c6dfe\" type=\"checkbox\" ><label for=\"b44c3e16-6e02-4e0d-93f5-41599c1c6dfe\" class=\"sk-toggleable__label sk-toggleable__label-arrow\">SimpleImputer</label><div class=\"sk-toggleable__content\"><pre>SimpleImputer(strategy=&#x27;median&#x27;)</pre></div></div></div><div class=\"sk-item\"><div class=\"sk-estimator sk-toggleable\"><input class=\"sk-toggleable__control sk-hidden--visually\" id=\"bfaf947b-1f24-42f7-bc06-0fc91154f0f8\" type=\"checkbox\" ><label for=\"bfaf947b-1f24-42f7-bc06-0fc91154f0f8\" class=\"sk-toggleable__label sk-toggleable__label-arrow\">StandardScaler</label><div class=\"sk-toggleable__content\"><pre>StandardScaler()</pre></div></div></div></div></div></div></div></div><div class=\"sk-parallel-item\"><div class=\"sk-item\"><div class=\"sk-label-container\"><div class=\"sk-label sk-toggleable\"><input class=\"sk-toggleable__control sk-hidden--visually\" id=\"bf083192-8b94-49a3-bf76-a276a7276f39\" type=\"checkbox\" ><label for=\"bf083192-8b94-49a3-bf76-a276a7276f39\" class=\"sk-toggleable__label sk-toggleable__label-arrow\">cat</label><div class=\"sk-toggleable__content\"><pre>[&#x27;SEX&#x27;, &#x27;EDUCATION&#x27;, &#x27;MARRIAGE&#x27;]</pre></div></div></div><div class=\"sk-serial\"><div class=\"sk-item\"><div class=\"sk-serial\"><div class=\"sk-item\"><div class=\"sk-estimator sk-toggleable\"><input class=\"sk-toggleable__control sk-hidden--visually\" id=\"3885e924-0d22-45d3-b43c-e91eced73f99\" type=\"checkbox\" ><label for=\"3885e924-0d22-45d3-b43c-e91eced73f99\" class=\"sk-toggleable__label sk-toggleable__label-arrow\">SimpleImputer</label><div class=\"sk-toggleable__content\"><pre>SimpleImputer(strategy=&#x27;most_frequent&#x27;)</pre></div></div></div><div class=\"sk-item\"><div class=\"sk-estimator sk-toggleable\"><input class=\"sk-toggleable__control sk-hidden--visually\" id=\"654888fb-7717-444c-b576-4e3f4df95a02\" type=\"checkbox\" ><label for=\"654888fb-7717-444c-b576-4e3f4df95a02\" class=\"sk-toggleable__label sk-toggleable__label-arrow\">OneHotEncoder</label><div class=\"sk-toggleable__content\"><pre>OneHotEncoder(drop=&#x27;first&#x27;, sparse=False)</pre></div></div></div></div></div></div></div></div></div></div><div class=\"sk-item\"><div class=\"sk-estimator sk-toggleable\"><input class=\"sk-toggleable__control sk-hidden--visually\" id=\"50773500-d180-4bcc-8893-385c45806c3b\" type=\"checkbox\" ><label for=\"50773500-d180-4bcc-8893-385c45806c3b\" class=\"sk-toggleable__label sk-toggleable__label-arrow\">RandomForestClassifier</label><div class=\"sk-toggleable__content\"><pre>RandomForestClassifier(n_estimators=102, random_state=42)</pre></div></div></div></div></div></div></div>"
            ]
          },
          "metadata": {},
          "execution_count": 28
        }
      ]
    },
    {
      "cell_type": "code",
      "source": [
        "from sklearn.ensemble import RandomForestClassifier\n",
        "forest_clf = RandomForestClassifier(n_estimators=102, random_state=42)\n",
        "forest_clf.fit(X_train, y_train)"
      ],
      "metadata": {
        "colab": {
          "base_uri": "https://localhost:8080/",
          "height": 75
        },
        "id": "RC3PUEtqV_Xg",
        "outputId": "ad8bf005-134e-4297-c7fb-5b8d6beadaa9"
      },
      "execution_count": null,
      "outputs": [
        {
          "output_type": "execute_result",
          "data": {
            "text/plain": [
              "RandomForestClassifier(n_estimators=102, random_state=42)"
            ],
            "text/html": [
              "<style>#sk-122c8b81-1f64-4067-af29-ebcfca21ff25 {color: black;background-color: white;}#sk-122c8b81-1f64-4067-af29-ebcfca21ff25 pre{padding: 0;}#sk-122c8b81-1f64-4067-af29-ebcfca21ff25 div.sk-toggleable {background-color: white;}#sk-122c8b81-1f64-4067-af29-ebcfca21ff25 label.sk-toggleable__label {cursor: pointer;display: block;width: 100%;margin-bottom: 0;padding: 0.3em;box-sizing: border-box;text-align: center;}#sk-122c8b81-1f64-4067-af29-ebcfca21ff25 label.sk-toggleable__label-arrow:before {content: \"▸\";float: left;margin-right: 0.25em;color: #696969;}#sk-122c8b81-1f64-4067-af29-ebcfca21ff25 label.sk-toggleable__label-arrow:hover:before {color: black;}#sk-122c8b81-1f64-4067-af29-ebcfca21ff25 div.sk-estimator:hover label.sk-toggleable__label-arrow:before {color: black;}#sk-122c8b81-1f64-4067-af29-ebcfca21ff25 div.sk-toggleable__content {max-height: 0;max-width: 0;overflow: hidden;text-align: left;background-color: #f0f8ff;}#sk-122c8b81-1f64-4067-af29-ebcfca21ff25 div.sk-toggleable__content pre {margin: 0.2em;color: black;border-radius: 0.25em;background-color: #f0f8ff;}#sk-122c8b81-1f64-4067-af29-ebcfca21ff25 input.sk-toggleable__control:checked~div.sk-toggleable__content {max-height: 200px;max-width: 100%;overflow: auto;}#sk-122c8b81-1f64-4067-af29-ebcfca21ff25 input.sk-toggleable__control:checked~label.sk-toggleable__label-arrow:before {content: \"▾\";}#sk-122c8b81-1f64-4067-af29-ebcfca21ff25 div.sk-estimator input.sk-toggleable__control:checked~label.sk-toggleable__label {background-color: #d4ebff;}#sk-122c8b81-1f64-4067-af29-ebcfca21ff25 div.sk-label input.sk-toggleable__control:checked~label.sk-toggleable__label {background-color: #d4ebff;}#sk-122c8b81-1f64-4067-af29-ebcfca21ff25 input.sk-hidden--visually {border: 0;clip: rect(1px 1px 1px 1px);clip: rect(1px, 1px, 1px, 1px);height: 1px;margin: -1px;overflow: hidden;padding: 0;position: absolute;width: 1px;}#sk-122c8b81-1f64-4067-af29-ebcfca21ff25 div.sk-estimator {font-family: monospace;background-color: #f0f8ff;border: 1px dotted black;border-radius: 0.25em;box-sizing: border-box;margin-bottom: 0.5em;}#sk-122c8b81-1f64-4067-af29-ebcfca21ff25 div.sk-estimator:hover {background-color: #d4ebff;}#sk-122c8b81-1f64-4067-af29-ebcfca21ff25 div.sk-parallel-item::after {content: \"\";width: 100%;border-bottom: 1px solid gray;flex-grow: 1;}#sk-122c8b81-1f64-4067-af29-ebcfca21ff25 div.sk-label:hover label.sk-toggleable__label {background-color: #d4ebff;}#sk-122c8b81-1f64-4067-af29-ebcfca21ff25 div.sk-serial::before {content: \"\";position: absolute;border-left: 1px solid gray;box-sizing: border-box;top: 2em;bottom: 0;left: 50%;}#sk-122c8b81-1f64-4067-af29-ebcfca21ff25 div.sk-serial {display: flex;flex-direction: column;align-items: center;background-color: white;padding-right: 0.2em;padding-left: 0.2em;}#sk-122c8b81-1f64-4067-af29-ebcfca21ff25 div.sk-item {z-index: 1;}#sk-122c8b81-1f64-4067-af29-ebcfca21ff25 div.sk-parallel {display: flex;align-items: stretch;justify-content: center;background-color: white;}#sk-122c8b81-1f64-4067-af29-ebcfca21ff25 div.sk-parallel::before {content: \"\";position: absolute;border-left: 1px solid gray;box-sizing: border-box;top: 2em;bottom: 0;left: 50%;}#sk-122c8b81-1f64-4067-af29-ebcfca21ff25 div.sk-parallel-item {display: flex;flex-direction: column;position: relative;background-color: white;}#sk-122c8b81-1f64-4067-af29-ebcfca21ff25 div.sk-parallel-item:first-child::after {align-self: flex-end;width: 50%;}#sk-122c8b81-1f64-4067-af29-ebcfca21ff25 div.sk-parallel-item:last-child::after {align-self: flex-start;width: 50%;}#sk-122c8b81-1f64-4067-af29-ebcfca21ff25 div.sk-parallel-item:only-child::after {width: 0;}#sk-122c8b81-1f64-4067-af29-ebcfca21ff25 div.sk-dashed-wrapped {border: 1px dashed gray;margin: 0 0.4em 0.5em 0.4em;box-sizing: border-box;padding-bottom: 0.4em;background-color: white;position: relative;}#sk-122c8b81-1f64-4067-af29-ebcfca21ff25 div.sk-label label {font-family: monospace;font-weight: bold;background-color: white;display: inline-block;line-height: 1.2em;}#sk-122c8b81-1f64-4067-af29-ebcfca21ff25 div.sk-label-container {position: relative;z-index: 2;text-align: center;}#sk-122c8b81-1f64-4067-af29-ebcfca21ff25 div.sk-container {/* jupyter's `normalize.less` sets `[hidden] { display: none; }` but bootstrap.min.css set `[hidden] { display: none !important; }` so we also need the `!important` here to be able to override the default hidden behavior on the sphinx rendered scikit-learn.org. See: https://github.com/scikit-learn/scikit-learn/issues/21755 */display: inline-block !important;position: relative;}#sk-122c8b81-1f64-4067-af29-ebcfca21ff25 div.sk-text-repr-fallback {display: none;}</style><div id=\"sk-122c8b81-1f64-4067-af29-ebcfca21ff25\" class=\"sk-top-container\"><div class=\"sk-text-repr-fallback\"><pre>RandomForestClassifier(n_estimators=102, random_state=42)</pre><b>Please rerun this cell to show the HTML repr or trust the notebook.</b></div><div class=\"sk-container\" hidden><div class=\"sk-item\"><div class=\"sk-estimator sk-toggleable\"><input class=\"sk-toggleable__control sk-hidden--visually\" id=\"819d7045-10b3-4945-bf10-d44e645d1f9f\" type=\"checkbox\" checked><label for=\"819d7045-10b3-4945-bf10-d44e645d1f9f\" class=\"sk-toggleable__label sk-toggleable__label-arrow\">RandomForestClassifier</label><div class=\"sk-toggleable__content\"><pre>RandomForestClassifier(n_estimators=102, random_state=42)</pre></div></div></div></div></div>"
            ]
          },
          "metadata": {},
          "execution_count": 27
        }
      ]
    },
    {
      "cell_type": "code",
      "source": [
        "from sklearn.metrics import accuracy_score, balanced_accuracy_score\n",
        "\n",
        "X_test = preprocess_pipeline.transform(test_data)\n",
        "y_test = test_data[\"default\"]\n",
        "y_pred = forest_clf.predict(X_test)\n",
        "accuracy_score(y_test, y_pred)"
      ],
      "metadata": {
        "colab": {
          "base_uri": "https://localhost:8080/"
        },
        "id": "dAqDgM1TWPeb",
        "outputId": "fc4653f5-19ed-4153-aa74-2b777d52e17d"
      },
      "execution_count": null,
      "outputs": [
        {
          "output_type": "execute_result",
          "data": {
            "text/plain": [
              "0.7353333333333333"
            ]
          },
          "metadata": {},
          "execution_count": 19
        }
      ]
    },
    {
      "cell_type": "code",
      "source": [
        "balanced_accuracy_score(y_test, y_pred).round(4)"
      ],
      "metadata": {
        "colab": {
          "base_uri": "https://localhost:8080/"
        },
        "id": "lWGX9kvrWVIM",
        "outputId": "89369eeb-0e7d-4063-c169-586cdfe2f6bc"
      },
      "execution_count": null,
      "outputs": [
        {
          "output_type": "execute_result",
          "data": {
            "text/plain": [
              "0.5279"
            ]
          },
          "metadata": {},
          "execution_count": 20
        }
      ]
    },
    {
      "cell_type": "markdown",
      "source": [
        "## 3. Search over parameters"
      ],
      "metadata": {
        "id": "_tyXdq2pSYB3"
      }
    },
    {
      "cell_type": "markdown",
      "source": [
        "Search over the max_depth and min_samples_leaf parameters to find the best model per balanced accuracy metric. Use at least three different search strategies and discuss any differences you see in the results."
      ],
      "metadata": {
        "id": "dP-WqzhZUMsF"
      }
    },
    {
      "cell_type": "markdown",
      "source": [
        "### Grid Search"
      ],
      "metadata": {
        "id": "2LVb_iU3VViG"
      }
    },
    {
      "cell_type": "code",
      "source": [
        "from sklearn.model_selection import GridSearchCV\n",
        "from sklearn.ensemble import RandomForestClassifier\n",
        "\n",
        "param_grid = [ \n",
        "    {'random_forest__max_depth': [2, 6, 8, 10], \n",
        "    'random_forest__min_samples_leaf': [2, 6, 8, 10]}\n",
        "    ]\n",
        "print('The parameter grid : ')\n",
        "print(param_grid)\n",
        "\n",
        "grid_search = GridSearchCV(full_pipeline, param_grid, cv=3, scoring='balanced_accuracy')\n",
        "grid_search.fit(df_X, df_y)\n",
        "\n",
        "grid_search.best_estimator_\n",
        "gs_res = pd.DataFrame(grid_search.cv_results_)\n",
        "gs_res.sort_values(by=\"mean_test_score\", ascending=False, inplace=True)\n",
        "gs_res.filter(regex = '(iter|^param_|mean_test_score|std_test_score|n_resources)', axis=1).head()"
      ],
      "metadata": {
        "colab": {
          "base_uri": "https://localhost:8080/",
          "height": 306
        },
        "id": "paRTlLLaSaYH",
        "outputId": "7520f0c0-1695-44aa-b595-90991a81c548"
      },
      "execution_count": null,
      "outputs": [
        {
          "output_type": "stream",
          "name": "stdout",
          "text": [
            "The parameter grid : \n",
            "[{'random_forest__max_depth': [2, 6, 8, 10], 'random_forest__min_samples_leaf': [2, 6, 8, 10]}]\n"
          ]
        },
        {
          "output_type": "execute_result",
          "data": {
            "text/plain": [
              "   param_random_forest__max_depth param_random_forest__min_samples_leaf  \\\n",
              "12                             10                                     2   \n",
              "14                             10                                     8   \n",
              "13                             10                                     6   \n",
              "10                              8                                     8   \n",
              "0                               2                                     2   \n",
              "\n",
              "    mean_test_score  std_test_score  \n",
              "12         0.502324        0.000281  \n",
              "14         0.500642        0.001155  \n",
              "13         0.500313        0.000665  \n",
              "10         0.500043        0.000060  \n",
              "0          0.500000        0.000000  "
            ],
            "text/html": [
              "\n",
              "  <div id=\"df-06c7d8f0-e5a4-4d62-8717-c30e9a6fafb5\">\n",
              "    <div class=\"colab-df-container\">\n",
              "      <div>\n",
              "<style scoped>\n",
              "    .dataframe tbody tr th:only-of-type {\n",
              "        vertical-align: middle;\n",
              "    }\n",
              "\n",
              "    .dataframe tbody tr th {\n",
              "        vertical-align: top;\n",
              "    }\n",
              "\n",
              "    .dataframe thead th {\n",
              "        text-align: right;\n",
              "    }\n",
              "</style>\n",
              "<table border=\"1\" class=\"dataframe\">\n",
              "  <thead>\n",
              "    <tr style=\"text-align: right;\">\n",
              "      <th></th>\n",
              "      <th>param_random_forest__max_depth</th>\n",
              "      <th>param_random_forest__min_samples_leaf</th>\n",
              "      <th>mean_test_score</th>\n",
              "      <th>std_test_score</th>\n",
              "    </tr>\n",
              "  </thead>\n",
              "  <tbody>\n",
              "    <tr>\n",
              "      <th>12</th>\n",
              "      <td>10</td>\n",
              "      <td>2</td>\n",
              "      <td>0.502324</td>\n",
              "      <td>0.000281</td>\n",
              "    </tr>\n",
              "    <tr>\n",
              "      <th>14</th>\n",
              "      <td>10</td>\n",
              "      <td>8</td>\n",
              "      <td>0.500642</td>\n",
              "      <td>0.001155</td>\n",
              "    </tr>\n",
              "    <tr>\n",
              "      <th>13</th>\n",
              "      <td>10</td>\n",
              "      <td>6</td>\n",
              "      <td>0.500313</td>\n",
              "      <td>0.000665</td>\n",
              "    </tr>\n",
              "    <tr>\n",
              "      <th>10</th>\n",
              "      <td>8</td>\n",
              "      <td>8</td>\n",
              "      <td>0.500043</td>\n",
              "      <td>0.000060</td>\n",
              "    </tr>\n",
              "    <tr>\n",
              "      <th>0</th>\n",
              "      <td>2</td>\n",
              "      <td>2</td>\n",
              "      <td>0.500000</td>\n",
              "      <td>0.000000</td>\n",
              "    </tr>\n",
              "  </tbody>\n",
              "</table>\n",
              "</div>\n",
              "      <button class=\"colab-df-convert\" onclick=\"convertToInteractive('df-06c7d8f0-e5a4-4d62-8717-c30e9a6fafb5')\"\n",
              "              title=\"Convert this dataframe to an interactive table.\"\n",
              "              style=\"display:none;\">\n",
              "        \n",
              "  <svg xmlns=\"http://www.w3.org/2000/svg\" height=\"24px\"viewBox=\"0 0 24 24\"\n",
              "       width=\"24px\">\n",
              "    <path d=\"M0 0h24v24H0V0z\" fill=\"none\"/>\n",
              "    <path d=\"M18.56 5.44l.94 2.06.94-2.06 2.06-.94-2.06-.94-.94-2.06-.94 2.06-2.06.94zm-11 1L8.5 8.5l.94-2.06 2.06-.94-2.06-.94L8.5 2.5l-.94 2.06-2.06.94zm10 10l.94 2.06.94-2.06 2.06-.94-2.06-.94-.94-2.06-.94 2.06-2.06.94z\"/><path d=\"M17.41 7.96l-1.37-1.37c-.4-.4-.92-.59-1.43-.59-.52 0-1.04.2-1.43.59L10.3 9.45l-7.72 7.72c-.78.78-.78 2.05 0 2.83L4 21.41c.39.39.9.59 1.41.59.51 0 1.02-.2 1.41-.59l7.78-7.78 2.81-2.81c.8-.78.8-2.07 0-2.86zM5.41 20L4 18.59l7.72-7.72 1.47 1.35L5.41 20z\"/>\n",
              "  </svg>\n",
              "      </button>\n",
              "      \n",
              "  <style>\n",
              "    .colab-df-container {\n",
              "      display:flex;\n",
              "      flex-wrap:wrap;\n",
              "      gap: 12px;\n",
              "    }\n",
              "\n",
              "    .colab-df-convert {\n",
              "      background-color: #E8F0FE;\n",
              "      border: none;\n",
              "      border-radius: 50%;\n",
              "      cursor: pointer;\n",
              "      display: none;\n",
              "      fill: #1967D2;\n",
              "      height: 32px;\n",
              "      padding: 0 0 0 0;\n",
              "      width: 32px;\n",
              "    }\n",
              "\n",
              "    .colab-df-convert:hover {\n",
              "      background-color: #E2EBFA;\n",
              "      box-shadow: 0px 1px 2px rgba(60, 64, 67, 0.3), 0px 1px 3px 1px rgba(60, 64, 67, 0.15);\n",
              "      fill: #174EA6;\n",
              "    }\n",
              "\n",
              "    [theme=dark] .colab-df-convert {\n",
              "      background-color: #3B4455;\n",
              "      fill: #D2E3FC;\n",
              "    }\n",
              "\n",
              "    [theme=dark] .colab-df-convert:hover {\n",
              "      background-color: #434B5C;\n",
              "      box-shadow: 0px 1px 3px 1px rgba(0, 0, 0, 0.15);\n",
              "      filter: drop-shadow(0px 1px 2px rgba(0, 0, 0, 0.3));\n",
              "      fill: #FFFFFF;\n",
              "    }\n",
              "  </style>\n",
              "\n",
              "      <script>\n",
              "        const buttonEl =\n",
              "          document.querySelector('#df-06c7d8f0-e5a4-4d62-8717-c30e9a6fafb5 button.colab-df-convert');\n",
              "        buttonEl.style.display =\n",
              "          google.colab.kernel.accessAllowed ? 'block' : 'none';\n",
              "\n",
              "        async function convertToInteractive(key) {\n",
              "          const element = document.querySelector('#df-06c7d8f0-e5a4-4d62-8717-c30e9a6fafb5');\n",
              "          const dataTable =\n",
              "            await google.colab.kernel.invokeFunction('convertToInteractive',\n",
              "                                                     [key], {});\n",
              "          if (!dataTable) return;\n",
              "\n",
              "          const docLinkHtml = 'Like what you see? Visit the ' +\n",
              "            '<a target=\"_blank\" href=https://colab.research.google.com/notebooks/data_table.ipynb>data table notebook</a>'\n",
              "            + ' to learn more about interactive tables.';\n",
              "          element.innerHTML = '';\n",
              "          dataTable['output_type'] = 'display_data';\n",
              "          await google.colab.output.renderOutput(dataTable, element);\n",
              "          const docLink = document.createElement('div');\n",
              "          docLink.innerHTML = docLinkHtml;\n",
              "          element.appendChild(docLink);\n",
              "        }\n",
              "      </script>\n",
              "    </div>\n",
              "  </div>\n",
              "  "
            ]
          },
          "metadata": {},
          "execution_count": 21
        }
      ]
    },
    {
      "cell_type": "markdown",
      "source": [
        "To understand that the hyperparameter combination of the best test score performance is not selected on random, we could subtract the mean test score by its standard deviation, and compare it with the second highest hyperparameter combination."
      ],
      "metadata": {
        "id": "nqZ1KX07wQ73"
      }
    },
    {
      "cell_type": "markdown",
      "source": [
        "Here, the highest `mean_test_score` is 0.502324, and its `std_test_score` is 0.000281. Subtracting them could get 0.502043, which is still higher than the second highest `mean_test_score` of 0.500642. This means even if randomness is taken into account, the hyperparameter combination of the highest performance could still be performing well."
      ],
      "metadata": {
        "id": "F1Fp32VgyOzw"
      }
    },
    {
      "cell_type": "markdown",
      "source": [
        "### Random Search"
      ],
      "metadata": {
        "id": "M-a2ibb_VibW"
      }
    },
    {
      "cell_type": "code",
      "source": [
        "from sklearn.model_selection import RandomizedSearchCV\n",
        "from sklearn.ensemble import RandomForestClassifier\n",
        "from scipy.stats import randint\n",
        "\n",
        "full_pipeline = Pipeline([\n",
        "    (\"preprocessing\", preprocess_pipeline),\n",
        "    (\"random_forest\", RandomForestClassifier(n_estimators=102, random_state=42)),\n",
        "])\n",
        "param_distribs = [ \n",
        "    {'random_forest__max_depth': randint(2, 10), \n",
        "    'random_forest__min_samples_leaf': randint(2, 10)}    \n",
        "    ]\n",
        "random_search = RandomizedSearchCV(full_pipeline, param_distribs, n_iter=20, cv=3, \n",
        "                                 scoring='balanced_accuracy', random_state=42)\n",
        "random_search.fit(df_X, df_y)\n",
        "random_search.best_estimator_\n",
        "rs_res = pd.DataFrame(random_search.cv_results_)\n",
        "rs_res.sort_values(by=\"mean_test_score\", ascending=False, inplace=True)\n",
        "rs_res.filter(regex = '(iter|^param_|mean_test_score|std_test_score|n_resources)', axis=1).head()"
      ],
      "metadata": {
        "colab": {
          "base_uri": "https://localhost:8080/",
          "height": 270
        },
        "id": "nnCrpyg7Vhvs",
        "outputId": "c830ef93-9bcd-4ceb-bfc3-7636135f92df"
      },
      "execution_count": null,
      "outputs": [
        {
          "output_type": "execute_result",
          "data": {
            "text/plain": [
              "   param_random_forest__max_depth param_random_forest__min_samples_leaf  \\\n",
              "9                               9                                     4   \n",
              "7                               9                                     6   \n",
              "14                              9                                     5   \n",
              "4                               8                                     3   \n",
              "19                              2                                     4   \n",
              "\n",
              "    mean_test_score  std_test_score  \n",
              "9          0.500299        0.000333  \n",
              "7          0.500271        0.000402  \n",
              "14         0.500142        0.000132  \n",
              "4          0.500085        0.000210  \n",
              "19         0.500000        0.000000  "
            ],
            "text/html": [
              "\n",
              "  <div id=\"df-ff47c2ad-1331-497c-8320-b3286da51c22\">\n",
              "    <div class=\"colab-df-container\">\n",
              "      <div>\n",
              "<style scoped>\n",
              "    .dataframe tbody tr th:only-of-type {\n",
              "        vertical-align: middle;\n",
              "    }\n",
              "\n",
              "    .dataframe tbody tr th {\n",
              "        vertical-align: top;\n",
              "    }\n",
              "\n",
              "    .dataframe thead th {\n",
              "        text-align: right;\n",
              "    }\n",
              "</style>\n",
              "<table border=\"1\" class=\"dataframe\">\n",
              "  <thead>\n",
              "    <tr style=\"text-align: right;\">\n",
              "      <th></th>\n",
              "      <th>param_random_forest__max_depth</th>\n",
              "      <th>param_random_forest__min_samples_leaf</th>\n",
              "      <th>mean_test_score</th>\n",
              "      <th>std_test_score</th>\n",
              "    </tr>\n",
              "  </thead>\n",
              "  <tbody>\n",
              "    <tr>\n",
              "      <th>9</th>\n",
              "      <td>9</td>\n",
              "      <td>4</td>\n",
              "      <td>0.500299</td>\n",
              "      <td>0.000333</td>\n",
              "    </tr>\n",
              "    <tr>\n",
              "      <th>7</th>\n",
              "      <td>9</td>\n",
              "      <td>6</td>\n",
              "      <td>0.500271</td>\n",
              "      <td>0.000402</td>\n",
              "    </tr>\n",
              "    <tr>\n",
              "      <th>14</th>\n",
              "      <td>9</td>\n",
              "      <td>5</td>\n",
              "      <td>0.500142</td>\n",
              "      <td>0.000132</td>\n",
              "    </tr>\n",
              "    <tr>\n",
              "      <th>4</th>\n",
              "      <td>8</td>\n",
              "      <td>3</td>\n",
              "      <td>0.500085</td>\n",
              "      <td>0.000210</td>\n",
              "    </tr>\n",
              "    <tr>\n",
              "      <th>19</th>\n",
              "      <td>2</td>\n",
              "      <td>4</td>\n",
              "      <td>0.500000</td>\n",
              "      <td>0.000000</td>\n",
              "    </tr>\n",
              "  </tbody>\n",
              "</table>\n",
              "</div>\n",
              "      <button class=\"colab-df-convert\" onclick=\"convertToInteractive('df-ff47c2ad-1331-497c-8320-b3286da51c22')\"\n",
              "              title=\"Convert this dataframe to an interactive table.\"\n",
              "              style=\"display:none;\">\n",
              "        \n",
              "  <svg xmlns=\"http://www.w3.org/2000/svg\" height=\"24px\"viewBox=\"0 0 24 24\"\n",
              "       width=\"24px\">\n",
              "    <path d=\"M0 0h24v24H0V0z\" fill=\"none\"/>\n",
              "    <path d=\"M18.56 5.44l.94 2.06.94-2.06 2.06-.94-2.06-.94-.94-2.06-.94 2.06-2.06.94zm-11 1L8.5 8.5l.94-2.06 2.06-.94-2.06-.94L8.5 2.5l-.94 2.06-2.06.94zm10 10l.94 2.06.94-2.06 2.06-.94-2.06-.94-.94-2.06-.94 2.06-2.06.94z\"/><path d=\"M17.41 7.96l-1.37-1.37c-.4-.4-.92-.59-1.43-.59-.52 0-1.04.2-1.43.59L10.3 9.45l-7.72 7.72c-.78.78-.78 2.05 0 2.83L4 21.41c.39.39.9.59 1.41.59.51 0 1.02-.2 1.41-.59l7.78-7.78 2.81-2.81c.8-.78.8-2.07 0-2.86zM5.41 20L4 18.59l7.72-7.72 1.47 1.35L5.41 20z\"/>\n",
              "  </svg>\n",
              "      </button>\n",
              "      \n",
              "  <style>\n",
              "    .colab-df-container {\n",
              "      display:flex;\n",
              "      flex-wrap:wrap;\n",
              "      gap: 12px;\n",
              "    }\n",
              "\n",
              "    .colab-df-convert {\n",
              "      background-color: #E8F0FE;\n",
              "      border: none;\n",
              "      border-radius: 50%;\n",
              "      cursor: pointer;\n",
              "      display: none;\n",
              "      fill: #1967D2;\n",
              "      height: 32px;\n",
              "      padding: 0 0 0 0;\n",
              "      width: 32px;\n",
              "    }\n",
              "\n",
              "    .colab-df-convert:hover {\n",
              "      background-color: #E2EBFA;\n",
              "      box-shadow: 0px 1px 2px rgba(60, 64, 67, 0.3), 0px 1px 3px 1px rgba(60, 64, 67, 0.15);\n",
              "      fill: #174EA6;\n",
              "    }\n",
              "\n",
              "    [theme=dark] .colab-df-convert {\n",
              "      background-color: #3B4455;\n",
              "      fill: #D2E3FC;\n",
              "    }\n",
              "\n",
              "    [theme=dark] .colab-df-convert:hover {\n",
              "      background-color: #434B5C;\n",
              "      box-shadow: 0px 1px 3px 1px rgba(0, 0, 0, 0.15);\n",
              "      filter: drop-shadow(0px 1px 2px rgba(0, 0, 0, 0.3));\n",
              "      fill: #FFFFFF;\n",
              "    }\n",
              "  </style>\n",
              "\n",
              "      <script>\n",
              "        const buttonEl =\n",
              "          document.querySelector('#df-ff47c2ad-1331-497c-8320-b3286da51c22 button.colab-df-convert');\n",
              "        buttonEl.style.display =\n",
              "          google.colab.kernel.accessAllowed ? 'block' : 'none';\n",
              "\n",
              "        async function convertToInteractive(key) {\n",
              "          const element = document.querySelector('#df-ff47c2ad-1331-497c-8320-b3286da51c22');\n",
              "          const dataTable =\n",
              "            await google.colab.kernel.invokeFunction('convertToInteractive',\n",
              "                                                     [key], {});\n",
              "          if (!dataTable) return;\n",
              "\n",
              "          const docLinkHtml = 'Like what you see? Visit the ' +\n",
              "            '<a target=\"_blank\" href=https://colab.research.google.com/notebooks/data_table.ipynb>data table notebook</a>'\n",
              "            + ' to learn more about interactive tables.';\n",
              "          element.innerHTML = '';\n",
              "          dataTable['output_type'] = 'display_data';\n",
              "          await google.colab.output.renderOutput(dataTable, element);\n",
              "          const docLink = document.createElement('div');\n",
              "          docLink.innerHTML = docLinkHtml;\n",
              "          element.appendChild(docLink);\n",
              "        }\n",
              "      </script>\n",
              "    </div>\n",
              "  </div>\n",
              "  "
            ]
          },
          "metadata": {},
          "execution_count": 25
        }
      ]
    },
    {
      "cell_type": "markdown",
      "source": [
        "### Halving Random Search"
      ],
      "metadata": {
        "id": "E2KZKmGOmD6d"
      }
    },
    {
      "cell_type": "code",
      "source": [
        "from sklearn.experimental import enable_halving_search_cv\n",
        "from sklearn.model_selection import HalvingRandomSearchCV\n",
        "\n",
        "from scipy.stats import randint\n",
        "\n",
        "param_distribs = [ \n",
        "    {'random_forest__max_depth': randint(2, 10), \n",
        "    'random_forest__min_samples_leaf': randint(2, 10)}  \n",
        "    ]\n",
        "halving_random_search = HalvingRandomSearchCV(full_pipeline, param_distribs, \n",
        "                                      n_candidates=20, cv=3, \n",
        "                                      min_resources='exhaust',\n",
        "                                      scoring='balanced_accuracy', \n",
        "                                      random_state=42)\n",
        "\n",
        "halving_random_search.fit(df_X, df_y)\n",
        "halving_random_search.best_estimator_\n",
        "halving_random_cv_res = pd.DataFrame(halving_random_search.cv_results_)\n",
        "halving_random_cv_res.sort_values(by=['mean_test_score'], ascending=False, inplace=True)\n",
        "halving_random_cv_res.filter(regex = '(^param_|mean_test_score|std_test_score|n_resources)', axis=1).head()"
      ],
      "metadata": {
        "colab": {
          "base_uri": "https://localhost:8080/",
          "height": 270
        },
        "id": "hc9XAovmXWkI",
        "outputId": "81246b32-5193-4811-fe18-27d2ab16348d"
      },
      "execution_count": null,
      "outputs": [
        {
          "output_type": "execute_result",
          "data": {
            "text/plain": [
              "    n_resources param_random_forest__max_depth  \\\n",
              "13         2500                              7   \n",
              "4          2500                              8   \n",
              "9          2500                              9   \n",
              "3          2500                              6   \n",
              "15         2500                              6   \n",
              "\n",
              "   param_random_forest__min_samples_leaf  mean_test_score  std_test_score  \n",
              "13                                     3         0.505630        0.003329  \n",
              "4                                      3         0.505365        0.003413  \n",
              "9                                      4         0.505234        0.002634  \n",
              "3                                      6         0.503366        0.003025  \n",
              "15                                     2         0.502742        0.003001  "
            ],
            "text/html": [
              "\n",
              "  <div id=\"df-98b13c02-ba4b-4842-9bf0-7d341666938c\">\n",
              "    <div class=\"colab-df-container\">\n",
              "      <div>\n",
              "<style scoped>\n",
              "    .dataframe tbody tr th:only-of-type {\n",
              "        vertical-align: middle;\n",
              "    }\n",
              "\n",
              "    .dataframe tbody tr th {\n",
              "        vertical-align: top;\n",
              "    }\n",
              "\n",
              "    .dataframe thead th {\n",
              "        text-align: right;\n",
              "    }\n",
              "</style>\n",
              "<table border=\"1\" class=\"dataframe\">\n",
              "  <thead>\n",
              "    <tr style=\"text-align: right;\">\n",
              "      <th></th>\n",
              "      <th>n_resources</th>\n",
              "      <th>param_random_forest__max_depth</th>\n",
              "      <th>param_random_forest__min_samples_leaf</th>\n",
              "      <th>mean_test_score</th>\n",
              "      <th>std_test_score</th>\n",
              "    </tr>\n",
              "  </thead>\n",
              "  <tbody>\n",
              "    <tr>\n",
              "      <th>13</th>\n",
              "      <td>2500</td>\n",
              "      <td>7</td>\n",
              "      <td>3</td>\n",
              "      <td>0.505630</td>\n",
              "      <td>0.003329</td>\n",
              "    </tr>\n",
              "    <tr>\n",
              "      <th>4</th>\n",
              "      <td>2500</td>\n",
              "      <td>8</td>\n",
              "      <td>3</td>\n",
              "      <td>0.505365</td>\n",
              "      <td>0.003413</td>\n",
              "    </tr>\n",
              "    <tr>\n",
              "      <th>9</th>\n",
              "      <td>2500</td>\n",
              "      <td>9</td>\n",
              "      <td>4</td>\n",
              "      <td>0.505234</td>\n",
              "      <td>0.002634</td>\n",
              "    </tr>\n",
              "    <tr>\n",
              "      <th>3</th>\n",
              "      <td>2500</td>\n",
              "      <td>6</td>\n",
              "      <td>6</td>\n",
              "      <td>0.503366</td>\n",
              "      <td>0.003025</td>\n",
              "    </tr>\n",
              "    <tr>\n",
              "      <th>15</th>\n",
              "      <td>2500</td>\n",
              "      <td>6</td>\n",
              "      <td>2</td>\n",
              "      <td>0.502742</td>\n",
              "      <td>0.003001</td>\n",
              "    </tr>\n",
              "  </tbody>\n",
              "</table>\n",
              "</div>\n",
              "      <button class=\"colab-df-convert\" onclick=\"convertToInteractive('df-98b13c02-ba4b-4842-9bf0-7d341666938c')\"\n",
              "              title=\"Convert this dataframe to an interactive table.\"\n",
              "              style=\"display:none;\">\n",
              "        \n",
              "  <svg xmlns=\"http://www.w3.org/2000/svg\" height=\"24px\"viewBox=\"0 0 24 24\"\n",
              "       width=\"24px\">\n",
              "    <path d=\"M0 0h24v24H0V0z\" fill=\"none\"/>\n",
              "    <path d=\"M18.56 5.44l.94 2.06.94-2.06 2.06-.94-2.06-.94-.94-2.06-.94 2.06-2.06.94zm-11 1L8.5 8.5l.94-2.06 2.06-.94-2.06-.94L8.5 2.5l-.94 2.06-2.06.94zm10 10l.94 2.06.94-2.06 2.06-.94-2.06-.94-.94-2.06-.94 2.06-2.06.94z\"/><path d=\"M17.41 7.96l-1.37-1.37c-.4-.4-.92-.59-1.43-.59-.52 0-1.04.2-1.43.59L10.3 9.45l-7.72 7.72c-.78.78-.78 2.05 0 2.83L4 21.41c.39.39.9.59 1.41.59.51 0 1.02-.2 1.41-.59l7.78-7.78 2.81-2.81c.8-.78.8-2.07 0-2.86zM5.41 20L4 18.59l7.72-7.72 1.47 1.35L5.41 20z\"/>\n",
              "  </svg>\n",
              "      </button>\n",
              "      \n",
              "  <style>\n",
              "    .colab-df-container {\n",
              "      display:flex;\n",
              "      flex-wrap:wrap;\n",
              "      gap: 12px;\n",
              "    }\n",
              "\n",
              "    .colab-df-convert {\n",
              "      background-color: #E8F0FE;\n",
              "      border: none;\n",
              "      border-radius: 50%;\n",
              "      cursor: pointer;\n",
              "      display: none;\n",
              "      fill: #1967D2;\n",
              "      height: 32px;\n",
              "      padding: 0 0 0 0;\n",
              "      width: 32px;\n",
              "    }\n",
              "\n",
              "    .colab-df-convert:hover {\n",
              "      background-color: #E2EBFA;\n",
              "      box-shadow: 0px 1px 2px rgba(60, 64, 67, 0.3), 0px 1px 3px 1px rgba(60, 64, 67, 0.15);\n",
              "      fill: #174EA6;\n",
              "    }\n",
              "\n",
              "    [theme=dark] .colab-df-convert {\n",
              "      background-color: #3B4455;\n",
              "      fill: #D2E3FC;\n",
              "    }\n",
              "\n",
              "    [theme=dark] .colab-df-convert:hover {\n",
              "      background-color: #434B5C;\n",
              "      box-shadow: 0px 1px 3px 1px rgba(0, 0, 0, 0.15);\n",
              "      filter: drop-shadow(0px 1px 2px rgba(0, 0, 0, 0.3));\n",
              "      fill: #FFFFFF;\n",
              "    }\n",
              "  </style>\n",
              "\n",
              "      <script>\n",
              "        const buttonEl =\n",
              "          document.querySelector('#df-98b13c02-ba4b-4842-9bf0-7d341666938c button.colab-df-convert');\n",
              "        buttonEl.style.display =\n",
              "          google.colab.kernel.accessAllowed ? 'block' : 'none';\n",
              "\n",
              "        async function convertToInteractive(key) {\n",
              "          const element = document.querySelector('#df-98b13c02-ba4b-4842-9bf0-7d341666938c');\n",
              "          const dataTable =\n",
              "            await google.colab.kernel.invokeFunction('convertToInteractive',\n",
              "                                                     [key], {});\n",
              "          if (!dataTable) return;\n",
              "\n",
              "          const docLinkHtml = 'Like what you see? Visit the ' +\n",
              "            '<a target=\"_blank\" href=https://colab.research.google.com/notebooks/data_table.ipynb>data table notebook</a>'\n",
              "            + ' to learn more about interactive tables.';\n",
              "          element.innerHTML = '';\n",
              "          dataTable['output_type'] = 'display_data';\n",
              "          await google.colab.output.renderOutput(dataTable, element);\n",
              "          const docLink = document.createElement('div');\n",
              "          docLink.innerHTML = docLinkHtml;\n",
              "          element.appendChild(docLink);\n",
              "        }\n",
              "      </script>\n",
              "    </div>\n",
              "  </div>\n",
              "  "
            ]
          },
          "metadata": {},
          "execution_count": 34
        }
      ]
    },
    {
      "cell_type": "markdown",
      "source": [
        "As discussed in Grid Search, sometimes we need to examine if the best performing parameter combination is sustainable. By subtracting the highest `mean_test_score` with its `std_test_score` of the Halving Random Search, it appears to be **lower than**  the second highest `mean_test_score`. "
      ],
      "metadata": {
        "id": "1qZlHl0JQl7c"
      }
    },
    {
      "cell_type": "markdown",
      "source": [
        "\n",
        "\n",
        "---\n",
        "\n",
        "\n",
        "\n",
        "---\n",
        "\n"
      ],
      "metadata": {
        "id": "JiOc_li3Q5h5"
      }
    },
    {
      "cell_type": "markdown",
      "source": [
        "In Grid Search, we select 2, 6, 8, 10 for candidates of `param_random_forest_max_depth` and `param_random_forest_min_samples_leaf`. In Random Search and the Halving version, we set these two in the range of 2 to 10. Within this range, the search will select the best-performed random combination of hyperparameters.\n",
        "\n",
        "\n",
        "\n",
        "The test result turns out that the Halving Random Search found the parameter combination with the highest `mean_test_score`. The reason being that is Random Search performs well with the low dimensional data as we only limit to 5 predictors in this case. And **Halving** Random Search could filter out the worst performing data by training on a small subset. However, the standard deviation for the test score is quite high compared with that of Grid Search. This is because Grid Search aims to find the absolute best way to tune the hyperparameters.\n",
        "\n",
        "\n",
        "Overall saying, the Random Search is more efficient, while the Grid Search ensures the best hyperparameter combination out of all the available choices.\n",
        "\n",
        "\n",
        "Source: [Comparing Grid and Randomized Search Methods in Python](https://betterprogramming.pub/comparing-grid-and-randomized-search-methods-in-python-cd9fe9c3572d?gi=65395c8fb832\n",
        ")\n"
      ],
      "metadata": {
        "id": "Ks_AAEMyP_N4"
      }
    },
    {
      "cell_type": "markdown",
      "source": [
        "## 4. Find the RandomForestClassifier that minimizes the cost"
      ],
      "metadata": {
        "id": "dn5AUuGVSgl6"
      }
    },
    {
      "cell_type": "markdown",
      "source": [
        "Let's assume that the cost of missing a default (i.e., predicting non-default for a customer who ended up defaulting) is 10 times the cost of flagging a non-defaulter as defaulter. Let's further assume that the cost of correct predictions are 0. Use any one of the search strategies considered in the previous question to find the RandomForestClassifier that minimizes the cost. "
      ],
      "metadata": {
        "id": "L43oCmvsUPEx"
      }
    },
    {
      "cell_type": "markdown",
      "source": [
        "In this question, we use Grid Search to find the RandomForestClassifer that minimizes the cost."
      ],
      "metadata": {
        "id": "Y0yRvChhWAy8"
      }
    },
    {
      "cell_type": "code",
      "source": [
        "from sklearn.model_selection import cross_val_score\n",
        "\n",
        "forest_scores = cross_val_score(forest_clf, X_train, y_train, cv=10, scoring='balanced_accuracy')\n",
        "forest_scores.mean().round(3)"
      ],
      "metadata": {
        "colab": {
          "base_uri": "https://localhost:8080/"
        },
        "id": "SbJynreXVzdw",
        "outputId": "1310d7fc-89a0-4f69-997d-fa817a133c91"
      },
      "execution_count": null,
      "outputs": [
        {
          "output_type": "execute_result",
          "data": {
            "text/plain": [
              "0.523"
            ]
          },
          "metadata": {},
          "execution_count": 30
        }
      ]
    },
    {
      "cell_type": "code",
      "source": [
        "from sklearn.model_selection import GridSearchCV\n",
        "from sklearn.metrics import make_scorer, confusion_matrix\n",
        "def default_cost(y_true, y_pred): \n",
        "  cm = confusion_matrix(y_true, y_pred)\n",
        "  return cm[1,0] * 10 + cm[0,1] * 1\n",
        "\n",
        "cost_scorer = make_scorer(default_cost, greater_is_better=False)\n",
        "\n",
        "forest_costs = cross_val_score(forest_clf, X_train, y_train, cv=3, scoring=cost_scorer)\n",
        "forest_costs.mean()\n",
        "\n",
        "full_pipeline = Pipeline([\n",
        "    (\"preprocessing\", preprocess_pipeline),\n",
        "    (\"random_forest\", RandomForestClassifier(n_estimators=102, random_state=42)),\n",
        "])\n",
        "param_grid = [ \n",
        "    {'random_forest__max_depth': [2, 5, 10], \n",
        "    'random_forest__min_samples_leaf': [2, 5, 10]}\n",
        "    ]\n",
        "\n",
        "\n",
        "grid_search = GridSearchCV(full_pipeline, param_grid, cv=3, scoring=cost_scorer)\n",
        "grid_search.fit(df_X, df_y)\n",
        "\n",
        "cv_res = pd.DataFrame(grid_search.cv_results_)\n",
        "cv_res.sort_values(by=\"mean_test_score\", ascending=False, inplace=True)\n",
        "cv_res.filter(regex = '(^param_|mean_test_score|std_test_score|n_resources)', axis=1).head()"
      ],
      "metadata": {
        "colab": {
          "base_uri": "https://localhost:8080/",
          "height": 270
        },
        "id": "UnvB7i_ZVs0D",
        "outputId": "68bd2f13-2824-4878-94f8-4740b087221f"
      },
      "execution_count": null,
      "outputs": [
        {
          "output_type": "execute_result",
          "data": {
            "text/plain": [
              "  param_random_forest__max_depth param_random_forest__min_samples_leaf  \\\n",
              "6                             10                                     2   \n",
              "7                             10                                     5   \n",
              "8                             10                                    10   \n",
              "0                              2                                     2   \n",
              "1                              2                                     5   \n",
              "\n",
              "   mean_test_score  std_test_score  \n",
              "6    -16582.000000        9.416298  \n",
              "7    -16636.333333        4.921608  \n",
              "8    -16663.333333       17.152907  \n",
              "0    -16680.000000        0.000000  \n",
              "1    -16680.000000        0.000000  "
            ],
            "text/html": [
              "\n",
              "  <div id=\"df-a8cd2fab-d65d-401b-984a-772cad4ab67e\">\n",
              "    <div class=\"colab-df-container\">\n",
              "      <div>\n",
              "<style scoped>\n",
              "    .dataframe tbody tr th:only-of-type {\n",
              "        vertical-align: middle;\n",
              "    }\n",
              "\n",
              "    .dataframe tbody tr th {\n",
              "        vertical-align: top;\n",
              "    }\n",
              "\n",
              "    .dataframe thead th {\n",
              "        text-align: right;\n",
              "    }\n",
              "</style>\n",
              "<table border=\"1\" class=\"dataframe\">\n",
              "  <thead>\n",
              "    <tr style=\"text-align: right;\">\n",
              "      <th></th>\n",
              "      <th>param_random_forest__max_depth</th>\n",
              "      <th>param_random_forest__min_samples_leaf</th>\n",
              "      <th>mean_test_score</th>\n",
              "      <th>std_test_score</th>\n",
              "    </tr>\n",
              "  </thead>\n",
              "  <tbody>\n",
              "    <tr>\n",
              "      <th>6</th>\n",
              "      <td>10</td>\n",
              "      <td>2</td>\n",
              "      <td>-16582.000000</td>\n",
              "      <td>9.416298</td>\n",
              "    </tr>\n",
              "    <tr>\n",
              "      <th>7</th>\n",
              "      <td>10</td>\n",
              "      <td>5</td>\n",
              "      <td>-16636.333333</td>\n",
              "      <td>4.921608</td>\n",
              "    </tr>\n",
              "    <tr>\n",
              "      <th>8</th>\n",
              "      <td>10</td>\n",
              "      <td>10</td>\n",
              "      <td>-16663.333333</td>\n",
              "      <td>17.152907</td>\n",
              "    </tr>\n",
              "    <tr>\n",
              "      <th>0</th>\n",
              "      <td>2</td>\n",
              "      <td>2</td>\n",
              "      <td>-16680.000000</td>\n",
              "      <td>0.000000</td>\n",
              "    </tr>\n",
              "    <tr>\n",
              "      <th>1</th>\n",
              "      <td>2</td>\n",
              "      <td>5</td>\n",
              "      <td>-16680.000000</td>\n",
              "      <td>0.000000</td>\n",
              "    </tr>\n",
              "  </tbody>\n",
              "</table>\n",
              "</div>\n",
              "      <button class=\"colab-df-convert\" onclick=\"convertToInteractive('df-a8cd2fab-d65d-401b-984a-772cad4ab67e')\"\n",
              "              title=\"Convert this dataframe to an interactive table.\"\n",
              "              style=\"display:none;\">\n",
              "        \n",
              "  <svg xmlns=\"http://www.w3.org/2000/svg\" height=\"24px\"viewBox=\"0 0 24 24\"\n",
              "       width=\"24px\">\n",
              "    <path d=\"M0 0h24v24H0V0z\" fill=\"none\"/>\n",
              "    <path d=\"M18.56 5.44l.94 2.06.94-2.06 2.06-.94-2.06-.94-.94-2.06-.94 2.06-2.06.94zm-11 1L8.5 8.5l.94-2.06 2.06-.94-2.06-.94L8.5 2.5l-.94 2.06-2.06.94zm10 10l.94 2.06.94-2.06 2.06-.94-2.06-.94-.94-2.06-.94 2.06-2.06.94z\"/><path d=\"M17.41 7.96l-1.37-1.37c-.4-.4-.92-.59-1.43-.59-.52 0-1.04.2-1.43.59L10.3 9.45l-7.72 7.72c-.78.78-.78 2.05 0 2.83L4 21.41c.39.39.9.59 1.41.59.51 0 1.02-.2 1.41-.59l7.78-7.78 2.81-2.81c.8-.78.8-2.07 0-2.86zM5.41 20L4 18.59l7.72-7.72 1.47 1.35L5.41 20z\"/>\n",
              "  </svg>\n",
              "      </button>\n",
              "      \n",
              "  <style>\n",
              "    .colab-df-container {\n",
              "      display:flex;\n",
              "      flex-wrap:wrap;\n",
              "      gap: 12px;\n",
              "    }\n",
              "\n",
              "    .colab-df-convert {\n",
              "      background-color: #E8F0FE;\n",
              "      border: none;\n",
              "      border-radius: 50%;\n",
              "      cursor: pointer;\n",
              "      display: none;\n",
              "      fill: #1967D2;\n",
              "      height: 32px;\n",
              "      padding: 0 0 0 0;\n",
              "      width: 32px;\n",
              "    }\n",
              "\n",
              "    .colab-df-convert:hover {\n",
              "      background-color: #E2EBFA;\n",
              "      box-shadow: 0px 1px 2px rgba(60, 64, 67, 0.3), 0px 1px 3px 1px rgba(60, 64, 67, 0.15);\n",
              "      fill: #174EA6;\n",
              "    }\n",
              "\n",
              "    [theme=dark] .colab-df-convert {\n",
              "      background-color: #3B4455;\n",
              "      fill: #D2E3FC;\n",
              "    }\n",
              "\n",
              "    [theme=dark] .colab-df-convert:hover {\n",
              "      background-color: #434B5C;\n",
              "      box-shadow: 0px 1px 3px 1px rgba(0, 0, 0, 0.15);\n",
              "      filter: drop-shadow(0px 1px 2px rgba(0, 0, 0, 0.3));\n",
              "      fill: #FFFFFF;\n",
              "    }\n",
              "  </style>\n",
              "\n",
              "      <script>\n",
              "        const buttonEl =\n",
              "          document.querySelector('#df-a8cd2fab-d65d-401b-984a-772cad4ab67e button.colab-df-convert');\n",
              "        buttonEl.style.display =\n",
              "          google.colab.kernel.accessAllowed ? 'block' : 'none';\n",
              "\n",
              "        async function convertToInteractive(key) {\n",
              "          const element = document.querySelector('#df-a8cd2fab-d65d-401b-984a-772cad4ab67e');\n",
              "          const dataTable =\n",
              "            await google.colab.kernel.invokeFunction('convertToInteractive',\n",
              "                                                     [key], {});\n",
              "          if (!dataTable) return;\n",
              "\n",
              "          const docLinkHtml = 'Like what you see? Visit the ' +\n",
              "            '<a target=\"_blank\" href=https://colab.research.google.com/notebooks/data_table.ipynb>data table notebook</a>'\n",
              "            + ' to learn more about interactive tables.';\n",
              "          element.innerHTML = '';\n",
              "          dataTable['output_type'] = 'display_data';\n",
              "          await google.colab.output.renderOutput(dataTable, element);\n",
              "          const docLink = document.createElement('div');\n",
              "          docLink.innerHTML = docLinkHtml;\n",
              "          element.appendChild(docLink);\n",
              "        }\n",
              "      </script>\n",
              "    </div>\n",
              "  </div>\n",
              "  "
            ]
          },
          "metadata": {},
          "execution_count": 35
        }
      ]
    },
    {
      "cell_type": "markdown",
      "source": [
        "## Collaboration Statement"
      ],
      "metadata": {
        "id": "BglmdiL1W9mi"
      }
    },
    {
      "cell_type": "markdown",
      "source": [
        "Who did you discuss while answering this homework (whether to get or to provide help)? What questions/topics did you discuss? (10 points)"
      ],
      "metadata": {
        "id": "fcWcvqqeXA5D"
      }
    },
    {
      "cell_type": "markdown",
      "source": [
        "I went to Hazel's office hour to discuss if we should include the \"cost\" output in Section 4. Also we discussed if I should include the output variable \"default\" in Section 1.2."
      ],
      "metadata": {
        "id": "t1FTcy-0XCWr"
      }
    },
    {
      "cell_type": "code",
      "source": [],
      "metadata": {
        "id": "A-gwgHkfXAHk"
      },
      "execution_count": null,
      "outputs": []
    }
  ]
}